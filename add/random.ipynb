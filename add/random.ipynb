{
 "cells": [
  {
   "cell_type": "markdown",
   "metadata": {},
   "source": [
    "# Python для сбора и анализа данных\n",
    "\n",
    "*Алла Тамбовцева, НИУ ВШЭ*"
   ]
  },
  {
   "cell_type": "markdown",
   "metadata": {},
   "source": [
    "### Генерирование случайных чисел"
   ]
  },
  {
   "cell_type": "code",
   "execution_count": 1,
   "metadata": {},
   "outputs": [],
   "source": [
    "import random"
   ]
  },
  {
   "cell_type": "markdown",
   "metadata": {},
   "source": [
    "Представим, что нам нужно получить любое случайное число от 0 до 1, исключая правый конец. То есть некоторое число с плавающей точкой из полуинтервала $[0,1)$. Для этого нам достаточно вызвать функцию `random()`."
   ]
  },
  {
   "cell_type": "code",
   "execution_count": 2,
   "metadata": {},
   "outputs": [
    {
     "data": {
      "text/plain": [
       "0.5830747948276461"
      ]
     },
     "execution_count": 2,
     "metadata": {},
     "output_type": "execute_result"
    }
   ],
   "source": [
    "random.random()"
   ]
  },
  {
   "cell_type": "markdown",
   "metadata": {},
   "source": [
    "Так как функция возвращает случайное число, результаты при каждом её вызове (при вызове на лругом компьютере) будут разными. Сравним число выше с числом из следующей ячейки:"
   ]
  },
  {
   "cell_type": "code",
   "execution_count": 3,
   "metadata": {},
   "outputs": [
    {
     "data": {
      "text/plain": [
       "0.6601742393616705"
      ]
     },
     "execution_count": 3,
     "metadata": {},
     "output_type": "execute_result"
    }
   ],
   "source": [
    "random.random()  # отличаются!"
   ]
  },
  {
   "cell_type": "markdown",
   "metadata": {},
   "source": [
    "Иногда, например, при проведении компьютерных симуляций, необходимо обеспечить воспроизводимость кода. Если в коде «зашита» случайность, то обеспечить повторимость кода не получится. Но случайные числа в программировании – они на то и не чисто случайные, а псевдослучайные, потому что ими всё же можно управлять. Можно зафикисировать позицию, с которой алгоритм будет стартовать (`seed`), и тогда при повторном запуске кода результат будет одинаковый. Проверим:"
   ]
  },
  {
   "cell_type": "code",
   "execution_count": 4,
   "metadata": {},
   "outputs": [
    {
     "data": {
      "text/plain": [
       "0.9664535356921388"
      ]
     },
     "execution_count": 4,
     "metadata": {},
     "output_type": "execute_result"
    }
   ],
   "source": [
    "random.seed(1234)\n",
    "random.random()"
   ]
  },
  {
   "cell_type": "code",
   "execution_count": 5,
   "metadata": {},
   "outputs": [
    {
     "data": {
      "text/plain": [
       "0.9664535356921388"
      ]
     },
     "execution_count": 5,
     "metadata": {},
     "output_type": "execute_result"
    }
   ],
   "source": [
    "random.seed(1234)\n",
    "random.random() # получилось!"
   ]
  },
  {
   "cell_type": "markdown",
   "metadata": {},
   "source": [
    "Если нам нужно выбрать целое число из заданного отрезка, промежутка от $a$ до $b$, включая оба конца, можно воспользоваться функцией `randint()` (от *random integer*): "
   ]
  },
  {
   "cell_type": "code",
   "execution_count": 6,
   "metadata": {},
   "outputs": [
    {
     "data": {
      "text/plain": [
       "8"
      ]
     },
     "execution_count": 6,
     "metadata": {},
     "output_type": "execute_result"
    }
   ],
   "source": [
    "random.randint(1, 10)  # случайное целое от 1 до 10 включительно"
   ]
  },
  {
   "cell_type": "markdown",
   "metadata": {},
   "source": [
    "Кроме того, в модуле `random` есть ещё одна функция `randrange()`, которая тоже возвращает случайное целое число из заданного промежутка, только как в любом `range()` правый конец отрезка не включается:"
   ]
  },
  {
   "cell_type": "code",
   "execution_count": 7,
   "metadata": {},
   "outputs": [
    {
     "data": {
      "text/plain": [
       "14"
      ]
     },
     "execution_count": 7,
     "metadata": {},
     "output_type": "execute_result"
    }
   ],
   "source": [
    "random.randrange(0, 101)  # от 0 до 100 включительно"
   ]
  },
  {
   "cell_type": "markdown",
   "metadata": {},
   "source": [
    "Однако функция `randrange()` более гибкая: она позволяет выставлять шаг, с которым мы будем двигаться по интервалу. По умолчанию шаг равен 1 (мы берем все целые числа подряд), но его можно изменить:"
   ]
  },
  {
   "cell_type": "code",
   "execution_count": 8,
   "metadata": {},
   "outputs": [
    {
     "name": "stdout",
     "output_type": "stream",
     "text": [
      "0\n",
      "10\n",
      "90\n",
      "0\n",
      "100\n",
      "10\n"
     ]
    }
   ],
   "source": [
    "# посмотрим на результаты, вызвав генератор несколько\n",
    "# раз в цикле\n",
    "for i in range(0, 6):\n",
    "    n = random.randrange(0, 101, 10)  # шаг 10\n",
    "    print(n)"
   ]
  },
  {
   "cell_type": "markdown",
   "metadata": {},
   "source": [
    "### Случайный выбор"
   ]
  },
  {
   "cell_type": "markdown",
   "metadata": {},
   "source": [
    "Ещё с помощью модуля `random` можно случайным образом выбирать элементы из какого-нибудь итерируемого объекта (строки, списка, кортежа). Для этого нам понадобится функция `random()`. Выберем случайный символ из строки:"
   ]
  },
  {
   "cell_type": "code",
   "execution_count": 9,
   "metadata": {},
   "outputs": [
    {
     "data": {
      "text/plain": [
       "'o'"
      ]
     },
     "execution_count": 9,
     "metadata": {},
     "output_type": "execute_result"
    }
   ],
   "source": [
    "random.choice('world is')"
   ]
  },
  {
   "cell_type": "markdown",
   "metadata": {},
   "source": [
    "Случайный элемент из списка:"
   ]
  },
  {
   "cell_type": "code",
   "execution_count": 10,
   "metadata": {},
   "outputs": [
    {
     "data": {
      "text/plain": [
       "8"
      ]
     },
     "execution_count": 10,
     "metadata": {},
     "output_type": "execute_result"
    }
   ],
   "source": [
    "random.choice([4, 7, 8, 0, 2, 33])"
   ]
  },
  {
   "cell_type": "markdown",
   "metadata": {},
   "source": [
    "Или кортежа:"
   ]
  },
  {
   "cell_type": "code",
   "execution_count": 11,
   "metadata": {},
   "outputs": [
    {
     "data": {
      "text/plain": [
       "'w'"
      ]
     },
     "execution_count": 11,
     "metadata": {},
     "output_type": "execute_result"
    }
   ],
   "source": [
    "random.choice(('q', 'w', 'e', 'r', 't', 'y'))"
   ]
  },
  {
   "cell_type": "markdown",
   "metadata": {},
   "source": [
    "Если нам нужно выбрать больше одного элемента (получить случайную выборку), то понадобится функция `sample()`: "
   ]
  },
  {
   "cell_type": "code",
   "execution_count": 12,
   "metadata": {},
   "outputs": [
    {
     "data": {
      "text/plain": [
       "[8, 1, 13]"
      ]
     },
     "execution_count": 12,
     "metadata": {},
     "output_type": "execute_result"
    }
   ],
   "source": [
    "L = [8, 9, 10, 0, 3, 5, 6, 12, 13, 1]\n",
    "random.sample(L, 3)  # 3 случайных элемента из L"
   ]
  },
  {
   "cell_type": "markdown",
   "metadata": {},
   "source": [
    "Функция `sample()` извлекает случайные элементы без повторения, то есть каждый элемент списка `L` может встретиться в выборке ровно один раз. Если мы запросим для выборки больше элементов, чем есть в исходном списке, Python выдаст ошибку:"
   ]
  },
  {
   "cell_type": "code",
   "execution_count": 13,
   "metadata": {},
   "outputs": [
    {
     "ename": "ValueError",
     "evalue": "Sample larger than population or is negative",
     "output_type": "error",
     "traceback": [
      "\u001b[0;31m---------------------------------------------------------------------------\u001b[0m",
      "\u001b[0;31mValueError\u001b[0m                                Traceback (most recent call last)",
      "\u001b[0;32m<ipython-input-13-a8002025926a>\u001b[0m in \u001b[0;36m<module>\u001b[0;34m()\u001b[0m\n\u001b[0;32m----> 1\u001b[0;31m \u001b[0mrandom\u001b[0m\u001b[0;34m.\u001b[0m\u001b[0msample\u001b[0m\u001b[0;34m(\u001b[0m\u001b[0mL\u001b[0m\u001b[0;34m,\u001b[0m \u001b[0;36m30\u001b[0m\u001b[0;34m)\u001b[0m\u001b[0;34m\u001b[0m\u001b[0m\n\u001b[0m",
      "\u001b[0;32m/anaconda3/lib/python3.6/random.py\u001b[0m in \u001b[0;36msample\u001b[0;34m(self, population, k)\u001b[0m\n\u001b[1;32m    316\u001b[0m         \u001b[0mn\u001b[0m \u001b[0;34m=\u001b[0m \u001b[0mlen\u001b[0m\u001b[0;34m(\u001b[0m\u001b[0mpopulation\u001b[0m\u001b[0;34m)\u001b[0m\u001b[0;34m\u001b[0m\u001b[0m\n\u001b[1;32m    317\u001b[0m         \u001b[0;32mif\u001b[0m \u001b[0;32mnot\u001b[0m \u001b[0;36m0\u001b[0m \u001b[0;34m<=\u001b[0m \u001b[0mk\u001b[0m \u001b[0;34m<=\u001b[0m \u001b[0mn\u001b[0m\u001b[0;34m:\u001b[0m\u001b[0;34m\u001b[0m\u001b[0m\n\u001b[0;32m--> 318\u001b[0;31m             \u001b[0;32mraise\u001b[0m \u001b[0mValueError\u001b[0m\u001b[0;34m(\u001b[0m\u001b[0;34m\"Sample larger than population or is negative\"\u001b[0m\u001b[0;34m)\u001b[0m\u001b[0;34m\u001b[0m\u001b[0m\n\u001b[0m\u001b[1;32m    319\u001b[0m         \u001b[0mresult\u001b[0m \u001b[0;34m=\u001b[0m \u001b[0;34m[\u001b[0m\u001b[0;32mNone\u001b[0m\u001b[0;34m]\u001b[0m \u001b[0;34m*\u001b[0m \u001b[0mk\u001b[0m\u001b[0;34m\u001b[0m\u001b[0m\n\u001b[1;32m    320\u001b[0m         \u001b[0msetsize\u001b[0m \u001b[0;34m=\u001b[0m \u001b[0;36m21\u001b[0m        \u001b[0;31m# size of a small set minus size of an empty list\u001b[0m\u001b[0;34m\u001b[0m\u001b[0m\n",
      "\u001b[0;31mValueError\u001b[0m: Sample larger than population or is negative"
     ]
    }
   ],
   "source": [
    "random.sample(L, 30)"
   ]
  },
  {
   "cell_type": "markdown",
   "metadata": {},
   "source": [
    "Действительно, длина списка `L` равна 10, а мы хотим получить из него 30 элементов без повторений, что невозможно. Для выборки с повторяющимися значениями можно либо импортировать модуль `random` из библиотеки `numpy`, либо воспользоваться функцией `choices()`, которая появилась в Python 3.6:"
   ]
  },
  {
   "cell_type": "code",
   "execution_count": 14,
   "metadata": {},
   "outputs": [
    {
     "name": "stdout",
     "output_type": "stream",
     "text": [
      "[0, 6, 6, 9, 9, 9, 8, 3, 1, 8, 5, 3, 6, 8, 5, 10, 5, 6, 3, 0, 10, 1, 3, 5, 8, 5, 8, 9, 3, 0]\n"
     ]
    }
   ],
   "source": [
    "print(random.choices(L, k=30)) # k=30 - 30 элементов"
   ]
  },
  {
   "cell_type": "markdown",
   "metadata": {},
   "source": [
    "Получили список из 30 значений списка `L` с повторениями."
   ]
  },
  {
   "cell_type": "markdown",
   "metadata": {},
   "source": [
    "Осталось рассмотреть ещё одну распространённую функцию, связанную со «случайностями» в Python. Эта функция (и её аналоги в других библиотеках) пригодится в машинном обучении. В машинном обучении имеющийся набор данных разбивают на две части: обучающая выборка и тестовая выборка. На основе обучающей выборки статистическая модель «настраивается», на основе тестовой проверяется её качество. \n",
    "\n",
    "Например, у нас есть 10000 отзывов покупателей о товарах (нам известно, какие из отзывов положительные, а какие – отрицательные, они размечены экспертами), и на основе этих отзывов мы пытаемся построить модель, которая будет угадывать, отзыв является положительным или отрицательным. Для этого мы возьмём 8000 отзывов, обучим на них алгоритм, который в зависимости от разных характеристик отзыва (доля положительно окрашенных слов, количество восклицательных знаков, смайликов и прочее) будет возвращать метки 0 (отрицательный) и 1 (положительный). Когда модель будет готова, её качество нужно будет протестировать. Но тестировать качество имеет смысл на тех отзывах, которых в обучающей выборке не было, то есть на оставшихся 2000 отзывов. Почему проверять качество на обучающих данных неинформативно? Потому что в таком случае качество будет завышенным: модель уже «видела» эти отзывы и «знает», какие у них были метки.\n",
    "\n",
    "К чему здесь случайность? А вот к чему. Чтобы разбить массив данных на две части, недостаточно выбрать первые сколько-то строк и последние сколько-то строк, потому что может так оказаться, что в массиве сначала идут все положительные отзывы, а потом – все отрицательные. Выход есть: строки можно перемешать! И поможет в этом функция `shuffle()`:"
   ]
  },
  {
   "cell_type": "code",
   "execution_count": 15,
   "metadata": {},
   "outputs": [
    {
     "data": {
      "text/plain": [
       "[9, 10, 0, 4, 5, 11, 8]"
      ]
     },
     "execution_count": 15,
     "metadata": {},
     "output_type": "execute_result"
    }
   ],
   "source": [
    "items = [8, 9, 10, 4, 5, 0, 11]  # было\n",
    "random.shuffle(items)\n",
    "items  # стало"
   ]
  },
  {
   "cell_type": "markdown",
   "metadata": {},
   "source": [
    "Опять же, есть нам важна воспроизводимость кода, перед перемешиванием имеет смысл зафиксировать `seed`. И ещё: обратите внимание, что функция `shuffle()` вносит изменения в сам объект, поэтому если порядок элементов в исходном изменяемом объекте важен, нужно создать копию объекта, и перемешивать элементы уже в ней."
   ]
  }
 ],
 "metadata": {
  "kernelspec": {
   "display_name": "Python 3",
   "language": "python",
   "name": "python3"
  },
  "language_info": {
   "codemirror_mode": {
    "name": "ipython",
    "version": 3
   },
   "file_extension": ".py",
   "mimetype": "text/x-python",
   "name": "python",
   "nbconvert_exporter": "python",
   "pygments_lexer": "ipython3",
   "version": "3.6.5"
  }
 },
 "nbformat": 4,
 "nbformat_minor": 2
}
