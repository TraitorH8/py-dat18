{
 "cells": [
  {
   "cell_type": "markdown",
   "metadata": {},
   "source": [
    "# Python для анализа данных\n",
    "\n",
    "*Алла Тамбовцева, НИУ ВШЭ*"
   ]
  },
  {
   "cell_type": "markdown",
   "metadata": {},
   "source": [
    "## Web-scraping\n",
    "\n",
    "Мы уже немного познакомились со структурой html-файлов, теперь попробуем выгрузить информацию из реальной страницы, а точнее, с реального сайта [nplus1.ru](https://nplus1.ru/).\n",
    "\n",
    "**Наша задача:** выгрузить недавние новости в датафрейм `pandas`, чтобы потом сохранить все в csv-файл.\n",
    "\n",
    "Сначала сгрузим весь html-код страницы и сохраним его в отдельную переменную. Для этого нам понадобится библиотека `requests`. Импортируем её:"
   ]
  },
  {
   "cell_type": "code",
   "execution_count": 1,
   "metadata": {},
   "outputs": [],
   "source": [
    "import requests"
   ]
  },
  {
   "cell_type": "markdown",
   "metadata": {},
   "source": [
    "Сохраним ссылку на главную страницу сайта в переменную `url` для удобства и выгрузим страницу. (Разумеется, это будет работать при подключении к интернету. Если соединение будет отключено, Python выдаст `NewConnectionError`)."
   ]
  },
  {
   "cell_type": "code",
   "execution_count": 2,
   "metadata": {},
   "outputs": [],
   "source": [
    "url = 'https://nplus1.ru/' # сохраняем\n",
    "page = requests.get(url) # загружаем страницу по ссылке"
   ]
  },
  {
   "cell_type": "markdown",
   "metadata": {},
   "source": [
    "Если мы просто посмотрим на объект, мы ничего особенного не увидим:"
   ]
  },
  {
   "cell_type": "code",
   "execution_count": 3,
   "metadata": {},
   "outputs": [
    {
     "data": {
      "text/plain": [
       "<Response [200]>"
      ]
     },
     "execution_count": 3,
     "metadata": {},
     "output_type": "execute_result"
    }
   ],
   "source": [
    "page  # response 200 - страница загружена"
   ]
  },
  {
   "cell_type": "markdown",
   "metadata": {},
   "source": [
    "Импортируем функцию `BeautifulSoup` из библиотеки `bs4` (от *beautifulsoup4*) и заберём со страницы `page` код html в виде текста. "
   ]
  },
  {
   "cell_type": "code",
   "execution_count": 4,
   "metadata": {},
   "outputs": [],
   "source": [
    "from bs4 import BeautifulSoup  # не спрашивайте, почему BeautifulSoup"
   ]
  },
  {
   "cell_type": "code",
   "execution_count": 5,
   "metadata": {},
   "outputs": [],
   "source": [
    "soup = BeautifulSoup(page.text, 'lxml')"
   ]
  },
  {
   "cell_type": "markdown",
   "metadata": {},
   "source": [
    "Если выведем `soup` на экран, мы увидим то же самое, что в режиме разработчика или в режиме происмотра исходного кода (`view-source` через *Ctrl+U* в Google Chrome)."
   ]
  },
  {
   "cell_type": "code",
   "execution_count": null,
   "metadata": {},
   "outputs": [],
   "source": [
    "soup"
   ]
  },
  {
   "cell_type": "markdown",
   "metadata": {},
   "source": [
    "Для просмотра выглядит не очень удобно.  «Причешем» наш `soup` – воспользуемся методом `.prettify()` в сочетании с функцией `print()`."
   ]
  },
  {
   "cell_type": "code",
   "execution_count": null,
   "metadata": {},
   "outputs": [],
   "source": [
    "print(soup.prettify())"
   ]
  },
  {
   "cell_type": "markdown",
   "metadata": {},
   "source": [
    "В такой выдаче ориентироваться гораздо удобнее (но при желании, то же можно увидеть в браузере, на большом экране)."
   ]
  },
  {
   "cell_type": "markdown",
   "metadata": {},
   "source": [
    "Чтобы сгрузить все новости с главной страницы сайта, нужно собрать все ссылки на страницы с этими новостями. Ссылки в html-файле всегда заключены в тэг `<a></a>` и имеют атрибут `href`. Посмотрим на кусочки кода, соответствующие всем ссылкам на главной странице сайта:"
   ]
  },
  {
   "cell_type": "code",
   "execution_count": null,
   "metadata": {},
   "outputs": [],
   "source": [
    "for link in soup.find_all('a'):\n",
    "    print(link.get('href'))"
   ]
  },
  {
   "cell_type": "markdown",
   "metadata": {},
   "source": [
    "Ссылок много. Но нам нужны только новости – ссылки, которые начинаются со слова `/news`. Добавим условие: будем выбирать только те ссылки, в которых есть `/news`. Создадим пустой список `urls` и будем добавлять в него только ссылки, которые удовлетворяют этому условию."
   ]
  },
  {
   "cell_type": "code",
   "execution_count": 6,
   "metadata": {},
   "outputs": [
    {
     "data": {
      "text/plain": [
       "['/news/2019/01/18/Saturn-rings-are-young',\n",
       " '/news/2019/01/18/nubike',\n",
       " '/news/2019/01/18/sleeping-in-on-stillbirth',\n",
       " '/news/2019/01/18/biorepellent',\n",
       " '/news/2019/01/18/ancient-life-in-lake-mercer',\n",
       " '/news/2019/01/18/pain-is-unpleasant',\n",
       " '/news/2019/01/18/drug',\n",
       " '/news/2019/01/18/artificial-meteor-showers',\n",
       " '/news/2019/01/18/lowfreq',\n",
       " '/news/2019/01/18/Oldest-periodic-table',\n",
       " '/news/2019/01/18/so-many-golf-balls',\n",
       " '/news/2019/01/17/3D-printed-microstructure',\n",
       " '/news/2019/01/17/leak',\n",
       " '/news/2019/01/17/genes',\n",
       " '/news/2019/01/17/activity-tracker',\n",
       " '/news/2019/01/17/antivaxxers-top-threat',\n",
       " '/news/2019/01/17/dexnet',\n",
       " '/news/2019/01/17/orobates-gate',\n",
       " '/news/2019/01/17/semen-treatment',\n",
       " '/news/2019/01/09/discrete-space-time',\n",
       " '/news/2019/01/16/acoustic-Chern',\n",
       " '/news/2019/01/14/hawking-optic',\n",
       " '/news/2019/01/08/irisin-helps',\n",
       " '/news/2019/01/16/optomechanical-Kerker',\n",
       " '/news/2019/01/09/cancer-brillouin',\n",
       " '/news/2019/01/14/antispiral',\n",
       " '/news/2019/01/18/pain-is-unpleasant',\n",
       " '/news/2019/01/11/black-hole-formation']"
      ]
     },
     "execution_count": 6,
     "metadata": {},
     "output_type": "execute_result"
    }
   ],
   "source": [
    "urls = []\n",
    "\n",
    "for link in soup.find_all('a'):\n",
    "    if '/news' in link.get('href'):\n",
    "        urls.append(link.get('href'))\n",
    "urls"
   ]
  },
  {
   "cell_type": "markdown",
   "metadata": {},
   "source": [
    "Ссылки, которые у нас есть в списке `urls`, относительные: они неполные, начало ссылки (название сайта) отсутствует. Давайте превратим их в абсолютные ‒ склеим с ссылкой https://nplus1.ru."
   ]
  },
  {
   "cell_type": "code",
   "execution_count": 7,
   "metadata": {},
   "outputs": [
    {
     "data": {
      "text/plain": [
       "['https://nplus1.ru/news/2019/01/18/Saturn-rings-are-young',\n",
       " 'https://nplus1.ru/news/2019/01/18/nubike',\n",
       " 'https://nplus1.ru/news/2019/01/18/sleeping-in-on-stillbirth',\n",
       " 'https://nplus1.ru/news/2019/01/18/biorepellent',\n",
       " 'https://nplus1.ru/news/2019/01/18/ancient-life-in-lake-mercer',\n",
       " 'https://nplus1.ru/news/2019/01/18/pain-is-unpleasant',\n",
       " 'https://nplus1.ru/news/2019/01/18/drug',\n",
       " 'https://nplus1.ru/news/2019/01/18/artificial-meteor-showers',\n",
       " 'https://nplus1.ru/news/2019/01/18/lowfreq',\n",
       " 'https://nplus1.ru/news/2019/01/18/Oldest-periodic-table',\n",
       " 'https://nplus1.ru/news/2019/01/18/so-many-golf-balls',\n",
       " 'https://nplus1.ru/news/2019/01/17/3D-printed-microstructure',\n",
       " 'https://nplus1.ru/news/2019/01/17/leak',\n",
       " 'https://nplus1.ru/news/2019/01/17/genes',\n",
       " 'https://nplus1.ru/news/2019/01/17/activity-tracker',\n",
       " 'https://nplus1.ru/news/2019/01/17/antivaxxers-top-threat',\n",
       " 'https://nplus1.ru/news/2019/01/17/dexnet',\n",
       " 'https://nplus1.ru/news/2019/01/17/orobates-gate',\n",
       " 'https://nplus1.ru/news/2019/01/17/semen-treatment',\n",
       " 'https://nplus1.ru/news/2019/01/09/discrete-space-time',\n",
       " 'https://nplus1.ru/news/2019/01/16/acoustic-Chern',\n",
       " 'https://nplus1.ru/news/2019/01/14/hawking-optic',\n",
       " 'https://nplus1.ru/news/2019/01/08/irisin-helps',\n",
       " 'https://nplus1.ru/news/2019/01/16/optomechanical-Kerker',\n",
       " 'https://nplus1.ru/news/2019/01/09/cancer-brillouin',\n",
       " 'https://nplus1.ru/news/2019/01/14/antispiral',\n",
       " 'https://nplus1.ru/news/2019/01/18/pain-is-unpleasant',\n",
       " 'https://nplus1.ru/news/2019/01/11/black-hole-formation']"
      ]
     },
     "execution_count": 7,
     "metadata": {},
     "output_type": "execute_result"
    }
   ],
   "source": [
    "full_urls = []\n",
    "\n",
    "for u in urls:\n",
    "    res = 'https://nplus1.ru' + u\n",
    "    full_urls.append(res) \n",
    "\n",
    "full_urls"
   ]
  },
  {
   "cell_type": "markdown",
   "metadata": {},
   "source": [
    "Теперь наша задача сводится к следующему: изучить одну страницу с новостью, научиться из нее вытаскивать текст и всю необходимую информацию, а потом применить весь набор действий к каждой ссылке из `full_urls` в цикле. Посмотрим на новость с индексом 1, у вас может быть другая, новости обновляются."
   ]
  },
  {
   "cell_type": "code",
   "execution_count": 8,
   "metadata": {},
   "outputs": [],
   "source": [
    "url0 = full_urls[1]\n",
    "\n",
    "page0 = requests.get(url0)\n",
    "soup0 = BeautifulSoup(page0.text, 'lxml')"
   ]
  },
  {
   "cell_type": "markdown",
   "metadata": {},
   "source": [
    "В коде каждой страницы с новостью есть часть с мета-информацией: датой, именем автора и проч. Такая информация окружена тэгом `<meta></meta>`. Посмотрим:"
   ]
  },
  {
   "cell_type": "code",
   "execution_count": 9,
   "metadata": {},
   "outputs": [
    {
     "data": {
      "text/plain": [
       "[<meta charset=\"utf-8\"/>,\n",
       " <meta content=\"ie=edge\" http-equiv=\"x-ua-compatible\"/>,\n",
       " <meta content=\"width=device-width, initial-scale=1\" name=\"viewport\"/>,\n",
       " <meta content=\"yes\" name=\"apple-mobile-web-app-capable\"/>,\n",
       " <meta content=\"black\" name=\"apple-mobile-web-app-status-bar-style\"/>,\n",
       " <meta content=\"2019-01-18\" itemprop=\"datePublished\"/>,\n",
       " <meta content=\"Григорий Копиев\" name=\"mediator_author\"/>,\n",
       " <meta content=\"На нем велосипедист попеременно нажимает педали\" name=\"description\"/>,\n",
       " <meta content=\"Григорий Копиев\" name=\"author\"/>,\n",
       " <meta content=\"\" name=\"copyright\"/>,\n",
       " <meta content=\"Американцы представили проект серийного велосипеда с рычажной передачей\" property=\"og:title\"/>,\n",
       " <meta content=\"https://nplus1.ru/images/2019/01/18/6dd496b47bd2cda422bee43fbb08482f.jpg\" property=\"og:image\"/>,\n",
       " <meta content=\"https://nplus1.ru/news/2019/01/18/nubike\" property=\"og:url\"/>,\n",
       " <meta content=\"На нем велосипедист попеременно нажимает педали\" property=\"og:description\"/>,\n",
       " <meta content=\"summary_large_image\" name=\"twitter:card\"/>,\n",
       " <meta content=\"@nplusodin\" name=\"twitter:site\"/>,\n",
       " <meta content=\"Американцы представили проект серийного велосипеда с рычажной передачей\" name=\"twitter:title\"/>,\n",
       " <meta content=\"На нем велосипедист попеременно нажимает педали\" name=\"twitter:description\"/>,\n",
       " <meta content=\"https://nplus1.ru/images/2019/01/18/6dd496b47bd2cda422bee43fbb08482f.jpg\" name=\"twitter:image\"/>,\n",
       " <meta content=\"8c90b02c84ac3b72\" name=\"yandex-verification\"/>]"
      ]
     },
     "execution_count": 9,
     "metadata": {},
     "output_type": "execute_result"
    }
   ],
   "source": [
    "soup0.find_all('meta')"
   ]
  },
  {
   "cell_type": "markdown",
   "metadata": {},
   "source": [
    "Из этого списка нам нужны части с именем автора, датой, заголовком и кратким описанием. Воспользуемся поиском по атрибуту `name`. Передадим функции `find_all()` в качестве аргумента словарь с названием и значением атрибута: "
   ]
  },
  {
   "cell_type": "code",
   "execution_count": 10,
   "metadata": {},
   "outputs": [
    {
     "data": {
      "text/plain": [
       "[<meta content=\"Григорий Копиев\" name=\"author\"/>]"
      ]
     },
     "execution_count": 10,
     "metadata": {},
     "output_type": "execute_result"
    }
   ],
   "source": [
    "soup0.find_all('meta', {'name' : 'author'}) # например, автор"
   ]
  },
  {
   "cell_type": "markdown",
   "metadata": {},
   "source": [
    "Теперь выберем единственный элемент полученного списка (с индексом 0):"
   ]
  },
  {
   "cell_type": "code",
   "execution_count": 11,
   "metadata": {},
   "outputs": [
    {
     "data": {
      "text/plain": [
       "<meta content=\"Григорий Копиев\" name=\"author\"/>"
      ]
     },
     "execution_count": 11,
     "metadata": {},
     "output_type": "execute_result"
    }
   ],
   "source": [
    "soup0.find_all('meta', {'name' : 'author'})[0]"
   ]
  },
  {
   "cell_type": "markdown",
   "metadata": {},
   "source": [
    "Нам нужно вытащить из этого объекта `content` – имя автора. Посмотрим на атрибуты:"
   ]
  },
  {
   "cell_type": "code",
   "execution_count": 12,
   "metadata": {},
   "outputs": [
    {
     "data": {
      "text/plain": [
       "{'name': 'author', 'content': 'Григорий Копиев'}"
      ]
     },
     "execution_count": 12,
     "metadata": {},
     "output_type": "execute_result"
    }
   ],
   "source": [
    "soup0.find_all('meta', {'name' : 'author'})[0].attrs"
   ]
  },
  {
   "cell_type": "markdown",
   "metadata": {},
   "source": [
    "Как получить отсюда `content`? Очень просто, ведь это словарь! А доставать из словаря значение по ключу мы умеем."
   ]
  },
  {
   "cell_type": "code",
   "execution_count": 13,
   "metadata": {},
   "outputs": [
    {
     "data": {
      "text/plain": [
       "'Григорий Копиев'"
      ]
     },
     "execution_count": 13,
     "metadata": {},
     "output_type": "execute_result"
    }
   ],
   "source": [
    "author = soup0.find_all('meta', {'name' : 'author'})[0].attrs['content']\n",
    "author"
   ]
  },
  {
   "cell_type": "markdown",
   "metadata": {},
   "source": [
    "Аналогичным образом извлечем дату, заголовок и описание."
   ]
  },
  {
   "cell_type": "code",
   "execution_count": 14,
   "metadata": {},
   "outputs": [],
   "source": [
    "date = soup0.find_all('meta', {'itemprop' : 'datePublished'})[0].attrs['content']\n",
    "title = soup0.find_all('meta', {'property' : 'og:title'})[0].attrs['content']\n",
    "description = soup0.find_all('meta', {'name' : 'description'})[0].attrs['content']"
   ]
  },
  {
   "cell_type": "markdown",
   "metadata": {},
   "source": [
    "Осталось вытащить рубрики и сложность текста. Если мы посмотрим на исходный код страницы, мы увидим, что нужная нам информация находится в тэгах `<p></p>`:"
   ]
  },
  {
   "cell_type": "code",
   "execution_count": 15,
   "metadata": {},
   "outputs": [
    {
     "data": {
      "text/plain": [
       "[<p class=\"table\">\n",
       " <a data-rubric=\"transport\" href=\"/rubric/transport\">Транспорт</a>\n",
       " </p>, <p class=\"table\">\n",
       " <a href=\"/news/2019/01/18\">\n",
       " <time content=\"2019-01-18\" data-unix=\"1547823003\" itemprop=\"datePublished\">\n",
       " <span>17:50</span>\n",
       " <span>18 Янв. 2019</span>\n",
       " </time>\n",
       " </a>\n",
       " </p>, <p class=\"table\">\n",
       " <a href=\"/difficult/2.2\">\n",
       " <span>Сложность</span>\n",
       " <span class=\"difficult-value\">2.2</span>\n",
       " </a>\n",
       " </p>, <p class=\"title\"></p>, <p class=\"credits\">NuBike / Kickstarter</p>, <p>Компания NuBike представила велосипед с рычажным приводом, который приводится в движение за счет попеременного нажатия на педали, а не их кручения. По мнению разработчиков, поездка на таком велосипеде будет энергоэффективнее, чем на обычном велосипеде с цепным приводом. NuBike запустила <a href=\"https://www.kickstarter.com/projects/nubikemfg/nubike-limited-edition-v2-frame-and-drive-system\" rel=\"nofollow\" target=\"_blank\" title=\"Link: https://www.kickstarter.com/projects/nubikemfg/nubike-limited-edition-v2-frame-and-drive-system\">кампанию</a> по сбору средств на производства велосипеда на Kickstarter, а его цена составляет 3600 долларов.</p>, <p>Первые велосипеды с педалями стали появляться в начале 19 века, и поначалу их создатели экспериментировали с различными конструкциями. Однако в 1879 году был создан первый велосипед с цепной передачей на заднее колесо и с тех пор этот тип трансмиссии стал абсолютно доминирующем в велосипедостроении. Тем не менее, некоторые инженеры продолжают экспериментировать с альтернативными трансмиссиями, в том числе рычажной. За последние полтора века было создано множество реализаций такой трансмиссий с различными конструкциями, однако все их объединяет то, что во время езды велосипедист не крутит педали в одну сторону, а попеременно нажимает и отпускает их.</p>, <p>Компания NuBike представила проект серийного велосипеда с рычажным приводом. Во время езды велосипедист поочередно нажимает на два длинных рычага. При этом каждый из рычагов соединен с помощью кривошипа с диском, который в свою очередь передает вращение на вал и колесо. Разработчики утверждают, что такая конструкция позволяет передвигаться более эффективно благодаря применению длинного рычага, а также тому, что нога велосипедиста совершает практически вертикальные движения. Кроме того, они отмечают, что такая трансмиссия позволяет быстрее и проще снимать заднее колесо для транспортировки.</p>, <p><iframe frameborder=\"0\" height=\"349\" src=\"https://www.kickstarter.com/projects/nubikemfg/nubike-limited-edition-v2-frame-and-drive-system/widget/video.html\" width=\"620\"> </iframe><br/>Привод оборудован четырьмя передачами, которые, по-видимому, имеют конструкцию планетарной передачи и скрыты внутри блока, устанавливаемого на вал заднего колеса. Инженеры разработали углеволоконную раму массой менее 1,4 килограмма, а весь велосипед имеет массу массу десять килограммов. Стоимость велосипеда составляет 3600 долларов, а в случае успешного финансирования кампании поставки велосипедов начнутся в августе 2019 года. Стоит отметить, что на момент публикации заметки проект собрал 241 доллар из запрашиваемых 347 тысяч.</p>, <p>Помимо рычажной трансмиссии есть и смежные конструкции. К примеру, компания <a href=\"https://en.wikipedia.org/wiki/ElliptiGO\" rel=\"nofollow\" target=\"_blank\">ElliptiGO</a> производит велосипеды, на которых человек нажимает на две педали, перемещая ноги подобно тому, как они двигаются на эллиптическом тренажере. Также существуют и альтернативные трансмиссии, совершенно не похожие ни на цепной, ни на рычажный привод. К примеру, в прошлом году датская компания CeramicSpeed <a href=\"https://nplus1.ru/news/2018/07/13/driven\" target=\"_blank\" title=\"Link: https://nplus1.ru/news/2018/07/13/driven\">показала</a> прототип велосипеда с трансмиссией, в которой вращение передается с ведущего диска на ведомый через соединяющий их вал. Такие велосипеды также имеют долгую историю, однако новый прототип имеет заметное отличие от предыдущих разработок. Дело в том, что вал в нем может передавать вращение на 13 разных колец на ведомом диске, благодаря чему велосипед имеет 13 скоростей.</p>, <p><i>Григорий Копиев</i></p>, <p>Нашли опечатку? Выделите фрагмент и нажмите Ctrl+Enter.</p>, <p>Оставьте ваш e-mail, чтобы получать<br/>наш научный дайджест</p>, <p>Предоставляя адрес электронной почты, вы принимаете условия <a href=\"https://nplus1.ru/personal-data-agreement\">соглашения</a> о персональных данных.</p>, <p class=\"subtitle\">Из чего состоит наземный эшелон российской системы предупреждения о ракетном нападении</p>, <p>Коэффициент сложности</p>, <p>Коэффициент сложности</p>, <p>Коэффициент сложности</p>, <p>Коэффициент сложности</p>, <p>Коэффициент сложности</p>, <p>Коэффициент сложности</p>, <p>Коэффициент сложности</p>, <p>Коэффициент сложности</p>, <p>Коэффициент сложности</p>, <p>Коэффициент сложности</p>, <p>© 2019 N+1 Интернет-издание   Свидетельство о регистрации СМИ Эл № ФС77-67614</p>, <p>Использование всех текстовых материалов без изменений в некоммерческих целях разрешается со ссылкой на N+1. \n",
       "                         Все аудиовизуальные произведения являются собственностью своих авторов и правообладателей и используются \n",
       "                         только в образовательных и информационных целях. Если вы являетесь собственником того или иного произведения \n",
       "                         и не согласны с его размещением на нашем сайте, пожалуйста, напишите на kirill@nplus1.ru</p>, <p>Сайт может содержать контент, не предназначенный для лиц младше 18 лет.</p>, <p>\n",
       " <a class=\"pd\" href=\"https://nplus1.ru/personal-data-policy\">Политика обработки персональных данных пользователей сайта</a>\n",
       " </p>, <p>\n",
       " <script async=\"\" src=\"//s.luxupcdnc.com/t/consent_195458.js\" type=\"text/javascript\"></script>\n",
       " <a href=\"#\" onclick=\"if(window.__lxG__consent__ !== undefined) {window.__lxG__consent__.showConsent()} else {alert('This function works only for users from the European Economic Area (EEA).')}; return false\">Change privacy settings</a>\n",
       " </p>, <p>\n",
       " </p>]"
      ]
     },
     "execution_count": 15,
     "metadata": {},
     "output_type": "execute_result"
    }
   ],
   "source": [
    "soup0.find_all('p')"
   ]
  },
  {
   "cell_type": "markdown",
   "metadata": {},
   "source": [
    "Выберем из полученного списка первый элемент и найдем в нем все тэги `<a>`:"
   ]
  },
  {
   "cell_type": "code",
   "execution_count": 16,
   "metadata": {},
   "outputs": [
    {
     "data": {
      "text/plain": [
       "[<a data-rubric=\"transport\" href=\"/rubric/transport\">Транспорт</a>]"
      ]
     },
     "execution_count": 16,
     "metadata": {},
     "output_type": "execute_result"
    }
   ],
   "source": [
    "soup0.find_all('p')[0].find_all('a')"
   ]
  },
  {
   "cell_type": "markdown",
   "metadata": {},
   "source": [
    "Получился список из одного элемента. Применим списковые включения – вытащим из каждого элемента (их могло бы быть больше) текст и поместим его в новый список `rubrics`."
   ]
  },
  {
   "cell_type": "code",
   "execution_count": 18,
   "metadata": {},
   "outputs": [
    {
     "data": {
      "text/plain": [
       "['Транспорт']"
      ]
     },
     "execution_count": 18,
     "metadata": {},
     "output_type": "execute_result"
    }
   ],
   "source": [
    "rubrics = [r.text for r in soup0.find_all('p')[0].find_all('a')]\n",
    "rubrics"
   ]
  },
  {
   "cell_type": "markdown",
   "metadata": {},
   "source": [
    "Осталась только сложность. Возьмем соответствующий кусок кода:"
   ]
  },
  {
   "cell_type": "code",
   "execution_count": 19,
   "metadata": {},
   "outputs": [
    {
     "data": {
      "text/plain": [
       "[<span class=\"difficult-value\">2.2</span>]"
      ]
     },
     "execution_count": 19,
     "metadata": {},
     "output_type": "execute_result"
    }
   ],
   "source": [
    "soup0.find_all('span', {'class' : 'difficult-value'})"
   ]
  },
  {
   "cell_type": "markdown",
   "metadata": {},
   "source": [
    "И выберем оттуда текст."
   ]
  },
  {
   "cell_type": "code",
   "execution_count": 20,
   "metadata": {},
   "outputs": [
    {
     "data": {
      "text/plain": [
       "'2.2'"
      ]
     },
     "execution_count": 20,
     "metadata": {},
     "output_type": "execute_result"
    }
   ],
   "source": [
    "diff = soup0.find_all('span', {'class' : 'difficult-value'})[0].text\n",
    "diff"
   ]
  },
  {
   "cell_type": "markdown",
   "metadata": {},
   "source": [
    "Теперь перейдем к тексту самой новости. Как можно заметить, текст сохранен в абзацах `<p></p>`, причем безо всяких атрибутов. Сообщим Python, что нас интересуют куски с пустым атрибутом `class`:"
   ]
  },
  {
   "cell_type": "code",
   "execution_count": 21,
   "metadata": {},
   "outputs": [],
   "source": [
    "text_list = soup0.find_all('p', {'class' : None})"
   ]
  },
  {
   "cell_type": "markdown",
   "metadata": {},
   "source": [
    "«Выцепим» все тексты (без тэгов) из полученного списка:"
   ]
  },
  {
   "cell_type": "code",
   "execution_count": 22,
   "metadata": {},
   "outputs": [],
   "source": [
    "text = [t.text for t in text_list]"
   ]
  },
  {
   "cell_type": "markdown",
   "metadata": {},
   "source": [
    "Склеим все элементы списка `text` через пробел:"
   ]
  },
  {
   "cell_type": "code",
   "execution_count": 23,
   "metadata": {},
   "outputs": [
    {
     "data": {
      "text/plain": [
       "'Компания NuBike представила велосипед с рычажным приводом, который приводится в движение за счет попеременного нажатия на педали, а не их кручения. По мнению разработчиков, поездка на таком велосипеде будет энергоэффективнее, чем на обычном велосипеде с цепным приводом. NuBike запустила кампанию по сбору средств на производства велосипеда на Kickstarter, а его цена составляет 3600 долларов. Первые велосипеды с педалями стали появляться в начале 19 века, и поначалу их создатели экспериментировали с различными конструкциями. Однако в 1879 году был создан первый велосипед с цепной передачей на заднее колесо и с тех пор этот тип трансмиссии стал абсолютно доминирующем в велосипедостроении. Тем не менее, некоторые инженеры продолжают экспериментировать с альтернативными трансмиссиями, в том числе рычажной. За последние полтора века было создано множество реализаций такой трансмиссий с различными конструкциями, однако все их объединяет то, что во время езды велосипедист не крутит педали в одну сторону, а попеременно нажимает и отпускает их. Компания NuBike представила проект серийного велосипеда с рычажным приводом. Во время езды велосипедист поочередно нажимает на два длинных рычага. При этом каждый из рычагов соединен с помощью кривошипа с диском, который в свою очередь передает вращение на вал и колесо. Разработчики утверждают, что такая конструкция позволяет передвигаться более эффективно благодаря применению длинного рычага, а также тому, что нога велосипедиста совершает практически вертикальные движения. Кроме того, они отмечают, что такая трансмиссия позволяет быстрее и проще снимать заднее колесо для транспортировки.  Привод оборудован четырьмя передачами, которые, по-видимому, имеют конструкцию планетарной передачи и скрыты внутри блока, устанавливаемого на вал заднего колеса. Инженеры разработали углеволоконную раму массой менее 1,4 килограмма, а весь велосипед имеет массу массу десять килограммов. Стоимость велосипеда составляет 3600 долларов, а в случае успешного финансирования кампании поставки велосипедов начнутся в августе 2019 года. Стоит отметить, что на момент публикации заметки проект собрал 241 доллар из запрашиваемых 347 тысяч. Помимо рычажной трансмиссии есть и смежные конструкции. К примеру, компания ElliptiGO производит велосипеды, на которых человек нажимает на две педали, перемещая ноги подобно тому, как они двигаются на эллиптическом тренажере. Также существуют и альтернативные трансмиссии, совершенно не похожие ни на цепной, ни на рычажный привод. К примеру, в прошлом году датская компания\\xa0CeramicSpeed показала прототип велосипеда с трансмиссией, в которой вращение передается с ведущего диска на ведомый через соединяющий их вал. Такие велосипеды также имеют долгую историю, однако новый прототип имеет заметное отличие от предыдущих разработок. Дело в том, что вал в нем может передавать вращение на 13 разных колец на ведомом диске, благодаря чему велосипед имеет 13 скоростей. Григорий Копиев Нашли опечатку? Выделите фрагмент и нажмите Ctrl+Enter. Оставьте ваш e-mail, чтобы получатьнаш научный дайджест Предоставляя адрес электронной почты, вы принимаете условия соглашения о персональных данных. Коэффициент сложности Коэффициент сложности Коэффициент сложности Коэффициент сложности Коэффициент сложности Коэффициент сложности Коэффициент сложности Коэффициент сложности Коэффициент сложности Коэффициент сложности © 2019 N+1 Интернет-издание \\xa0 Свидетельство о регистрации СМИ Эл № ФС77-67614 Использование всех текстовых материалов без изменений в некоммерческих целях разрешается со ссылкой на N+1. \\n                        Все аудиовизуальные произведения являются собственностью своих авторов и правообладателей и используются \\n                        только в образовательных и информационных целях. Если вы являетесь собственником того или иного произведения \\n                        и не согласны с его размещением на нашем сайте, пожалуйста, напишите на kirill@nplus1.ru Сайт может содержать контент, не предназначенный для лиц младше 18 лет. \\nПолитика обработки персональных данных пользователей сайта\\n \\n\\nChange privacy settings\\n \\n'"
      ]
     },
     "execution_count": 23,
     "metadata": {},
     "output_type": "execute_result"
    }
   ],
   "source": [
    "final_text = ' '.join(text)\n",
    "final_text"
   ]
  },
  {
   "cell_type": "markdown",
   "metadata": {},
   "source": [
    "Все здорово, только мешают отступы-переходы на новую строку `\\n`. Заменим их на пробелы с помощью метода `.replace`:"
   ]
  },
  {
   "cell_type": "code",
   "execution_count": 24,
   "metadata": {},
   "outputs": [],
   "source": [
    "final_text = final_text.replace('\\n', ' ')"
   ]
  },
  {
   "cell_type": "markdown",
   "metadata": {},
   "source": [
    "Не прошло и двух пар, как мы разобрались со всем :) Теперь осталось совсем чуть-чуть. Написать готовую функцию для всех проделанных нами действий и применить ее в цикле для всех ссылок в списке `full_urls`. Напишем! Аргументом функции будет ссылка на новость, а возвращать она будет текст новости и всю необходимую информацию (дата, автор, сложность и проч.). Скопируем все строки кода выше."
   ]
  },
  {
   "cell_type": "code",
   "execution_count": 25,
   "metadata": {},
   "outputs": [],
   "source": [
    "def GetNews(url0):\n",
    "    \"\"\"\n",
    "    Returns a tuple with url0, date, author, description, title, final_text, rubrics, diff.\n",
    "    Parameters:\n",
    "    \n",
    "    url0 is a link to the news (string)\n",
    "    \"\"\"\n",
    "    page0 = requests.get(url0)\n",
    "    soup0 = BeautifulSoup(page0.text, 'lxml')\n",
    "    author = soup0.find_all('meta', {'name' : 'author'})[0].attrs['content']\n",
    "    date = soup0.find_all('meta', {'itemprop' : 'datePublished'})[0].attrs['content']\n",
    "    title = soup0.find_all('meta', {'property' : 'og:title'})[0].attrs['content']\n",
    "    description = soup0.find_all('meta', {'name' : 'description'})[0].attrs['content']\n",
    "    rubrics = [r.text for r in soup0.find_all('p')[0].find_all('a')]\n",
    "    diff = soup0.find_all('span', {'class' : 'difficult-value'})[0].text\n",
    "    text_list = soup0.find_all('p', {'class' : None})\n",
    "    text = [t.text for t in text_list]\n",
    "    final_text = ' '.join(text)\n",
    "    final_text = final_text.replace('\\n', ' ')\n",
    "    \n",
    "    return url0, date, author, description, title, final_text, rubrics, diff"
   ]
  },
  {
   "cell_type": "markdown",
   "metadata": {},
   "source": [
    "Уфф. Осталось применить ее в цикле. Но давайте не будем спешить: импортируем функцию `sleep` для задержки, чтобы на каждой итерации цикла, прежде чем перейти к следующей новости, Python ждал несколько секунд. Во-первых, это нужно, чтобы сайт «не понял», чтобы мы его грабим, да еще автоматически. Во-вторых, с небольшой задержкой всегда есть гарантия, что страница прогрузится (сейчас это пока не очень важно, но особенно актуально будет, когда будем обсуждать встраивание в браузер с Selenium). Приступим."
   ]
  },
  {
   "cell_type": "code",
   "execution_count": 26,
   "metadata": {},
   "outputs": [],
   "source": [
    "from time import sleep"
   ]
  },
  {
   "cell_type": "code",
   "execution_count": 27,
   "metadata": {},
   "outputs": [],
   "source": [
    "news = [] # это будет список из кортежей, в которых будут храниться данные по каждой новости\n",
    "\n",
    "for link in full_urls:\n",
    "    res = GetNews(link)\n",
    "    news.append(res)\n",
    "    sleep(3) # задержка в 3 секунды"
   ]
  },
  {
   "cell_type": "markdown",
   "metadata": {},
   "source": [
    "Так теперь выглядит первый элемент списка:"
   ]
  },
  {
   "cell_type": "code",
   "execution_count": 28,
   "metadata": {},
   "outputs": [
    {
     "data": {
      "text/plain": [
       "('https://nplus1.ru/news/2019/01/18/Saturn-rings-are-young',\n",
       " '2019-01-18',\n",
       " 'Александр Войтюк',\n",
       " 'Предполагается, что их возраст может составлять от 10 до 100 миллионов лет.',\n",
       " 'Кольца Сатурна оказались современниками динозавров',\n",
       " 'Астрономы, проанализировавшие данные аппарата «Кассини», собранные в ходе финала миссии, смогли дать новые оценки массы и возраста колец Сатурна, которые оказались гораздо моложе, чем считалось ранее. В статье,\\xa0опубликованной\\xa0в журнале Science, говорится, что их возраст может составлять от 10 до 100 миллионов лет.\\xa0 Возраст колец Сатурна является одной из наиболее обсуждаемых проблем в планетологии. По одной из версий они\\xa0образовались вместе с планетой 4,5 миллиарда лет назад из ледяных обломков, по другим гораздо позже, когда Сатурн захватил и разрушил крупную комету, кентавра или несколько\\xa0ледяных спутников. Для определения возраста колец используются различные методы, основанные на эволюции структур в кольцах, характеристиках движения малых спутников и предположения о том, что поверхность ледяных частиц, составляющих кольца, темнеет со временем. Все эти методы\\xa0прямо или косвенно зависят от значений массы колец, оценки которых также разнятся. Ранее считалось, что общая масса колец составляет 2,8х1019 килограммов, или 0,75 массы спутника Сатурна Мимаса, эта оценка базировалась на наблюдениях волн плотности в кольцах A и B, которые проводили аппараты серии «Вояджер» в 1980-1981 годах. Однако эта оценка подвергалась сомнениям, предполагалось, что в оптически непрозрачных частях кольца В может скрываться значительно большая неучтенная масса. В новой работе группа астрономов во главе с Лучиано Айессом (Luciano Iies)\\xa0представила результаты анализа данных, которые собрала автоматическая станция «Кассини» в ходе нырков в зазор между кольцами и планетой в конце своей миссии в сентябре 2017 года.\\xa0Новая оценка массы колец основана на изменениях траектории аппарата гравитационным полем планеты, а также учета глубинных атмосферных течений на Сатурне.\\xa0Общая масса колец составляет (1,54 ± 0,49) × 1019 килограмм (это примерно 0,41 массы спутника Мимаса), а образоваться они могли 107–108 лет назад. Эта оценка\\xa0согласуется с выводами, полученными из наблюдений «Кассини» за волнами плотности в кольцах, к похожим цифрам приводят и результаты анализа\\xa0неледяной фракции колец,\\xa0 которые дают оценки возраста колец A и B в 80-150 и 30-100 миллионов лет, соответственно. В любом случае, полученные результаты\\xa0указывают на недавнее происхождение системы колец Сатурна в независимости от механизма их образования и помогут проверить существующие модели их эволюции. Благодаря «Кассини» ученые получили детальные данные о Сатурне и его огромных и удивительных кольцах, о его новых лунах, где могла возникнуть внеземная жизнь, о шестиугольных штормах, бушующих на газовом гиганте, и о многих других вещах. Обо всем этом читайте в нашем материале\\xa0«Большой финал «Кассини». Александр Войтюк Нашли опечатку? Выделите фрагмент и нажмите Ctrl+Enter. Оставьте ваш e-mail, чтобы получатьнаш научный дайджест Предоставляя адрес электронной почты, вы принимаете условия соглашения о персональных данных. Коэффициент сложности Коэффициент сложности Коэффициент сложности Коэффициент сложности Коэффициент сложности Коэффициент сложности Коэффициент сложности Коэффициент сложности Коэффициент сложности Коэффициент сложности © 2019 N+1 Интернет-издание \\xa0 Свидетельство о регистрации СМИ Эл № ФС77-67614 Использование всех текстовых материалов без изменений в некоммерческих целях разрешается со ссылкой на N+1.                          Все аудиовизуальные произведения являются собственностью своих авторов и правообладателей и используются                          только в образовательных и информационных целях. Если вы являетесь собственником того или иного произведения                          и не согласны с его размещением на нашем сайте, пожалуйста, напишите на kirill@nplus1.ru Сайт может содержать контент, не предназначенный для лиц младше 18 лет.  Политика обработки персональных данных пользователей сайта    Change privacy settings   ',\n",
       " ['Астрономия'],\n",
       " '3.9')"
      ]
     },
     "execution_count": 28,
     "metadata": {},
     "output_type": "execute_result"
    }
   ],
   "source": [
    "news[0]"
   ]
  },
  {
   "cell_type": "markdown",
   "metadata": {},
   "source": [
    "Импортируем `pandas` и создадим датафрейм из списка кортежей: "
   ]
  },
  {
   "cell_type": "code",
   "execution_count": 29,
   "metadata": {},
   "outputs": [],
   "source": [
    "import pandas as pd"
   ]
  },
  {
   "cell_type": "code",
   "execution_count": 30,
   "metadata": {},
   "outputs": [],
   "source": [
    "df = pd.DataFrame(news)"
   ]
  },
  {
   "cell_type": "code",
   "execution_count": 31,
   "metadata": {},
   "outputs": [
    {
     "data": {
      "text/html": [
       "<div>\n",
       "<style scoped>\n",
       "    .dataframe tbody tr th:only-of-type {\n",
       "        vertical-align: middle;\n",
       "    }\n",
       "\n",
       "    .dataframe tbody tr th {\n",
       "        vertical-align: top;\n",
       "    }\n",
       "\n",
       "    .dataframe thead th {\n",
       "        text-align: right;\n",
       "    }\n",
       "</style>\n",
       "<table border=\"1\" class=\"dataframe\">\n",
       "  <thead>\n",
       "    <tr style=\"text-align: right;\">\n",
       "      <th></th>\n",
       "      <th>0</th>\n",
       "      <th>1</th>\n",
       "      <th>2</th>\n",
       "      <th>3</th>\n",
       "      <th>4</th>\n",
       "      <th>5</th>\n",
       "      <th>6</th>\n",
       "      <th>7</th>\n",
       "    </tr>\n",
       "  </thead>\n",
       "  <tbody>\n",
       "    <tr>\n",
       "      <th>0</th>\n",
       "      <td>https://nplus1.ru/news/2019/01/18/Saturn-rings...</td>\n",
       "      <td>2019-01-18</td>\n",
       "      <td>Александр Войтюк</td>\n",
       "      <td>Предполагается, что их возраст может составлят...</td>\n",
       "      <td>Кольца Сатурна оказались современниками диноза...</td>\n",
       "      <td>Астрономы, проанализировавшие данные аппарата ...</td>\n",
       "      <td>[Астрономия]</td>\n",
       "      <td>3.9</td>\n",
       "    </tr>\n",
       "    <tr>\n",
       "      <th>1</th>\n",
       "      <td>https://nplus1.ru/news/2019/01/18/nubike</td>\n",
       "      <td>2019-01-18</td>\n",
       "      <td>Григорий Копиев</td>\n",
       "      <td>На нем велосипедист попеременно нажимает педали</td>\n",
       "      <td>Американцы представили проект серийного велоси...</td>\n",
       "      <td>Компания NuBike представила велосипед с рычажн...</td>\n",
       "      <td>[Транспорт]</td>\n",
       "      <td>2.2</td>\n",
       "    </tr>\n",
       "  </tbody>\n",
       "</table>\n",
       "</div>"
      ],
      "text/plain": [
       "                                                   0           1  \\\n",
       "0  https://nplus1.ru/news/2019/01/18/Saturn-rings...  2019-01-18   \n",
       "1           https://nplus1.ru/news/2019/01/18/nubike  2019-01-18   \n",
       "\n",
       "                  2                                                  3  \\\n",
       "0  Александр Войтюк  Предполагается, что их возраст может составлят...   \n",
       "1   Григорий Копиев    На нем велосипедист попеременно нажимает педали   \n",
       "\n",
       "                                                   4  \\\n",
       "0  Кольца Сатурна оказались современниками диноза...   \n",
       "1  Американцы представили проект серийного велоси...   \n",
       "\n",
       "                                                   5             6    7  \n",
       "0  Астрономы, проанализировавшие данные аппарата ...  [Астрономия]  3.9  \n",
       "1  Компания NuBike представила велосипед с рычажн...   [Транспорт]  2.2  "
      ]
     },
     "execution_count": 31,
     "metadata": {},
     "output_type": "execute_result"
    }
   ],
   "source": [
    "df.head(2)"
   ]
  },
  {
   "cell_type": "markdown",
   "metadata": {},
   "source": [
    "Переименуем столбцы в базе."
   ]
  },
  {
   "cell_type": "code",
   "execution_count": 32,
   "metadata": {},
   "outputs": [],
   "source": [
    "df.columns = ['link', 'date', 'author', 'desc', 'title', 'text', 'rubric', 'diffc']"
   ]
  },
  {
   "cell_type": "code",
   "execution_count": 33,
   "metadata": {},
   "outputs": [
    {
     "data": {
      "text/html": [
       "<div>\n",
       "<style scoped>\n",
       "    .dataframe tbody tr th:only-of-type {\n",
       "        vertical-align: middle;\n",
       "    }\n",
       "\n",
       "    .dataframe tbody tr th {\n",
       "        vertical-align: top;\n",
       "    }\n",
       "\n",
       "    .dataframe thead th {\n",
       "        text-align: right;\n",
       "    }\n",
       "</style>\n",
       "<table border=\"1\" class=\"dataframe\">\n",
       "  <thead>\n",
       "    <tr style=\"text-align: right;\">\n",
       "      <th></th>\n",
       "      <th>link</th>\n",
       "      <th>date</th>\n",
       "      <th>author</th>\n",
       "      <th>desc</th>\n",
       "      <th>title</th>\n",
       "      <th>text</th>\n",
       "      <th>rubric</th>\n",
       "      <th>diffc</th>\n",
       "    </tr>\n",
       "  </thead>\n",
       "  <tbody>\n",
       "    <tr>\n",
       "      <th>0</th>\n",
       "      <td>https://nplus1.ru/news/2019/01/18/Saturn-rings...</td>\n",
       "      <td>2019-01-18</td>\n",
       "      <td>Александр Войтюк</td>\n",
       "      <td>Предполагается, что их возраст может составлят...</td>\n",
       "      <td>Кольца Сатурна оказались современниками диноза...</td>\n",
       "      <td>Астрономы, проанализировавшие данные аппарата ...</td>\n",
       "      <td>[Астрономия]</td>\n",
       "      <td>3.9</td>\n",
       "    </tr>\n",
       "    <tr>\n",
       "      <th>1</th>\n",
       "      <td>https://nplus1.ru/news/2019/01/18/nubike</td>\n",
       "      <td>2019-01-18</td>\n",
       "      <td>Григорий Копиев</td>\n",
       "      <td>На нем велосипедист попеременно нажимает педали</td>\n",
       "      <td>Американцы представили проект серийного велоси...</td>\n",
       "      <td>Компания NuBike представила велосипед с рычажн...</td>\n",
       "      <td>[Транспорт]</td>\n",
       "      <td>2.2</td>\n",
       "    </tr>\n",
       "  </tbody>\n",
       "</table>\n",
       "</div>"
      ],
      "text/plain": [
       "                                                link        date  \\\n",
       "0  https://nplus1.ru/news/2019/01/18/Saturn-rings...  2019-01-18   \n",
       "1           https://nplus1.ru/news/2019/01/18/nubike  2019-01-18   \n",
       "\n",
       "             author                                               desc  \\\n",
       "0  Александр Войтюк  Предполагается, что их возраст может составлят...   \n",
       "1   Григорий Копиев    На нем велосипедист попеременно нажимает педали   \n",
       "\n",
       "                                               title  \\\n",
       "0  Кольца Сатурна оказались современниками диноза...   \n",
       "1  Американцы представили проект серийного велоси...   \n",
       "\n",
       "                                                text        rubric diffc  \n",
       "0  Астрономы, проанализировавшие данные аппарата ...  [Астрономия]   3.9  \n",
       "1  Компания NuBike представила велосипед с рычажн...   [Транспорт]   2.2  "
      ]
     },
     "execution_count": 33,
     "metadata": {},
     "output_type": "execute_result"
    }
   ],
   "source": [
    "df.head(2)"
   ]
  },
  {
   "cell_type": "markdown",
   "metadata": {},
   "source": [
    "Теперь внесем изменения: сделаем столбец `diffc` числовым – типа *float*."
   ]
  },
  {
   "cell_type": "code",
   "execution_count": 34,
   "metadata": {},
   "outputs": [],
   "source": [
    "df['diffc'] = [float(i) for i in df.diffc]"
   ]
  },
  {
   "cell_type": "markdown",
   "metadata": {},
   "source": [
    "Теперь сложность представлена в базе как количественный показатель, и описывать ее можно соответствующим образом:"
   ]
  },
  {
   "cell_type": "code",
   "execution_count": 35,
   "metadata": {},
   "outputs": [
    {
     "data": {
      "text/plain": [
       "count    28.000000\n",
       "mean      3.864286\n",
       "std       2.260976\n",
       "min       1.100000\n",
       "25%       2.025000\n",
       "50%       3.250000\n",
       "75%       5.975000\n",
       "max       8.500000\n",
       "Name: diffc, dtype: float64"
      ]
     },
     "execution_count": 35,
     "metadata": {},
     "output_type": "execute_result"
    }
   ],
   "source": [
    "df.diffc.describe()"
   ]
  },
  {
   "cell_type": "markdown",
   "metadata": {},
   "source": [
    "Теперь столбец со сложностью точно числовой. Можем даже построить для него гистограмму."
   ]
  },
  {
   "cell_type": "code",
   "execution_count": 36,
   "metadata": {},
   "outputs": [
    {
     "data": {
      "text/plain": [
       "<matplotlib.axes._subplots.AxesSubplot at 0x115b91cc0>"
      ]
     },
     "execution_count": 36,
     "metadata": {},
     "output_type": "execute_result"
    },
    {
     "data": {
      "image/png": "[encoded data removed]",
      "text/plain": [
       "<Figure size 432x288 with 1 Axes>"
      ]
     },
     "metadata": {},
     "output_type": "display_data"
    }
   ],
   "source": [
    "%matplotlib inline\n",
    "df.diffc.plot.hist()"
   ]
  },
  {
   "cell_type": "markdown",
   "metadata": {},
   "source": [
    "Объединим рубрики в *text* в одну строку через запятую:"
   ]
  },
  {
   "cell_type": "code",
   "execution_count": 37,
   "metadata": {},
   "outputs": [],
   "source": [
    "df['rubric'] = [','.join(r) for r in df.rubric]"
   ]
  },
  {
   "cell_type": "markdown",
   "metadata": {},
   "source": [
    "Давайте почистим текст новостей – уберем оттуда текст, не относящийся к новостям. Найдем лишнее:"
   ]
  },
  {
   "cell_type": "code",
   "execution_count": 38,
   "metadata": {},
   "outputs": [
    {
     "data": {
      "text/plain": [
       "'Астрономы, проанализировавшие данные аппарата «Кассини», собранные в ходе финала миссии, смогли дать новые оценки массы и возраста колец Сатурна, которые оказались гораздо моложе, чем считалось ранее. В статье,\\xa0опубликованной\\xa0в журнале Science, говорится, что их возраст может составлять от 10 до 100 миллионов лет.\\xa0 Возраст колец Сатурна является одной из наиболее обсуждаемых проблем в планетологии. По одной из версий они\\xa0образовались вместе с планетой 4,5 миллиарда лет назад из ледяных обломков, по другим гораздо позже, когда Сатурн захватил и разрушил крупную комету, кентавра или несколько\\xa0ледяных спутников. Для определения возраста колец используются различные методы, основанные на эволюции структур в кольцах, характеристиках движения малых спутников и предположения о том, что поверхность ледяных частиц, составляющих кольца, темнеет со временем. Все эти методы\\xa0прямо или косвенно зависят от значений массы колец, оценки которых также разнятся. Ранее считалось, что общая масса колец составляет 2,8х1019 килограммов, или 0,75 массы спутника Сатурна Мимаса, эта оценка базировалась на наблюдениях волн плотности в кольцах A и B, которые проводили аппараты серии «Вояджер» в 1980-1981 годах. Однако эта оценка подвергалась сомнениям, предполагалось, что в оптически непрозрачных частях кольца В может скрываться значительно большая неучтенная масса. В новой работе группа астрономов во главе с Лучиано Айессом (Luciano Iies)\\xa0представила результаты анализа данных, которые собрала автоматическая станция «Кассини» в ходе нырков в зазор между кольцами и планетой в конце своей миссии в сентябре 2017 года.\\xa0Новая оценка массы колец основана на изменениях траектории аппарата гравитационным полем планеты, а также учета глубинных атмосферных течений на Сатурне.\\xa0Общая масса колец составляет (1,54 ± 0,49) × 1019 килограмм (это примерно 0,41 массы спутника Мимаса), а образоваться они могли 107–108 лет назад. Эта оценка\\xa0согласуется с выводами, полученными из наблюдений «Кассини» за волнами плотности в кольцах, к похожим цифрам приводят и результаты анализа\\xa0неледяной фракции колец,\\xa0 которые дают оценки возраста колец A и B в 80-150 и 30-100 миллионов лет, соответственно. В любом случае, полученные результаты\\xa0указывают на недавнее происхождение системы колец Сатурна в независимости от механизма их образования и помогут проверить существующие модели их эволюции. Благодаря «Кассини» ученые получили детальные данные о Сатурне и его огромных и удивительных кольцах, о его новых лунах, где могла возникнуть внеземная жизнь, о шестиугольных штормах, бушующих на газовом гиганте, и о многих других вещах. Обо всем этом читайте в нашем материале\\xa0«Большой финал «Кассини». Александр Войтюк Нашли опечатку? Выделите фрагмент и нажмите Ctrl+Enter. Оставьте ваш e-mail, чтобы получатьнаш научный дайджест Предоставляя адрес электронной почты, вы принимаете условия соглашения о персональных данных. Коэффициент сложности Коэффициент сложности Коэффициент сложности Коэффициент сложности Коэффициент сложности Коэффициент сложности Коэффициент сложности Коэффициент сложности Коэффициент сложности Коэффициент сложности © 2019 N+1 Интернет-издание \\xa0 Свидетельство о регистрации СМИ Эл № ФС77-67614 Использование всех текстовых материалов без изменений в некоммерческих целях разрешается со ссылкой на N+1.                          Все аудиовизуальные произведения являются собственностью своих авторов и правообладателей и используются                          только в образовательных и информационных целях. Если вы являетесь собственником того или иного произведения                          и не согласны с его размещением на нашем сайте, пожалуйста, напишите на kirill@nplus1.ru Сайт может содержать контент, не предназначенный для лиц младше 18 лет.  Политика обработки персональных данных пользователей сайта    Change privacy settings   '"
      ]
     },
     "execution_count": 38,
     "metadata": {},
     "output_type": "execute_result"
    }
   ],
   "source": [
    "df.text[0]"
   ]
  },
  {
   "cell_type": "markdown",
   "metadata": {},
   "source": [
    "Лишний текст находится после фразы 'Нашли опечатку?'. Так давайте будем разбивать строки по этой фразе с помощью метода `.split()` и брать все, что до нее (элемент с индексом 0)."
   ]
  },
  {
   "cell_type": "code",
   "execution_count": 39,
   "metadata": {},
   "outputs": [],
   "source": [
    "df['clean_text'] = [t.split('Нашли опечатку?')[0] for t in df.text]"
   ]
  },
  {
   "cell_type": "markdown",
   "metadata": {},
   "source": [
    "Осталось только заменить непонятные символы `\\xa0` на пробелы:"
   ]
  },
  {
   "cell_type": "code",
   "execution_count": 40,
   "metadata": {},
   "outputs": [],
   "source": [
    "df['clean_text'] = [t.replace(\"\\xa0\", \" \") for t in df.clean_text]"
   ]
  },
  {
   "cell_type": "code",
   "execution_count": 41,
   "metadata": {},
   "outputs": [
    {
     "data": {
      "text/plain": [
       "'Астрономы, проанализировавшие данные аппарата «Кассини», собранные в ходе финала миссии, смогли дать новые оценки массы и возраста колец Сатурна, которые оказались гораздо моложе, чем считалось ранее. В статье, опубликованной в журнале Science, говорится, что их возраст может составлять от 10 до 100 миллионов лет.  Возраст колец Сатурна является одной из наиболее обсуждаемых проблем в планетологии. По одной из версий они образовались вместе с планетой 4,5 миллиарда лет назад из ледяных обломков, по другим гораздо позже, когда Сатурн захватил и разрушил крупную комету, кентавра или несколько ледяных спутников. Для определения возраста колец используются различные методы, основанные на эволюции структур в кольцах, характеристиках движения малых спутников и предположения о том, что поверхность ледяных частиц, составляющих кольца, темнеет со временем. Все эти методы прямо или косвенно зависят от значений массы колец, оценки которых также разнятся. Ранее считалось, что общая масса колец составляет 2,8х1019 килограммов, или 0,75 массы спутника Сатурна Мимаса, эта оценка базировалась на наблюдениях волн плотности в кольцах A и B, которые проводили аппараты серии «Вояджер» в 1980-1981 годах. Однако эта оценка подвергалась сомнениям, предполагалось, что в оптически непрозрачных частях кольца В может скрываться значительно большая неучтенная масса. В новой работе группа астрономов во главе с Лучиано Айессом (Luciano Iies) представила результаты анализа данных, которые собрала автоматическая станция «Кассини» в ходе нырков в зазор между кольцами и планетой в конце своей миссии в сентябре 2017 года. Новая оценка массы колец основана на изменениях траектории аппарата гравитационным полем планеты, а также учета глубинных атмосферных течений на Сатурне. Общая масса колец составляет (1,54 ± 0,49) × 1019 килограмм (это примерно 0,41 массы спутника Мимаса), а образоваться они могли 107–108 лет назад. Эта оценка согласуется с выводами, полученными из наблюдений «Кассини» за волнами плотности в кольцах, к похожим цифрам приводят и результаты анализа неледяной фракции колец,  которые дают оценки возраста колец A и B в 80-150 и 30-100 миллионов лет, соответственно. В любом случае, полученные результаты указывают на недавнее происхождение системы колец Сатурна в независимости от механизма их образования и помогут проверить существующие модели их эволюции. Благодаря «Кассини» ученые получили детальные данные о Сатурне и его огромных и удивительных кольцах, о его новых лунах, где могла возникнуть внеземная жизнь, о шестиугольных штормах, бушующих на газовом гиганте, и о многих других вещах. Обо всем этом читайте в нашем материале «Большой финал «Кассини». Александр Войтюк '"
      ]
     },
     "execution_count": 41,
     "metadata": {},
     "output_type": "execute_result"
    }
   ],
   "source": [
    "df.clean_text[0]"
   ]
  },
  {
   "cell_type": "markdown",
   "metadata": {},
   "source": [
    "Всё! Сохраняем датафрейм в файл. Для разнообразия сохраним в Excel:"
   ]
  },
  {
   "cell_type": "code",
   "execution_count": 42,
   "metadata": {},
   "outputs": [],
   "source": [
    "df.to_excel('nplus-news.xlsx')"
   ]
  }
 ],
 "metadata": {
  "kernelspec": {
   "display_name": "Python 3",
   "language": "python",
   "name": "python3"
  },
  "language_info": {
   "codemirror_mode": {
    "name": "ipython",
    "version": 3
   },
   "file_extension": ".py",
   "mimetype": "text/x-python",
   "name": "python",
   "nbconvert_exporter": "python",
   "pygments_lexer": "ipython3",
   "version": "3.6.5"
  }
 },
 "nbformat": 4,
 "nbformat_minor": 2
}
