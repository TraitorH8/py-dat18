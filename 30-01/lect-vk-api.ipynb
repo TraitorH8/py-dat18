{
 "cells": [
  {
   "cell_type": "markdown",
   "metadata": {},
   "source": [
    "# Python для анализа данных\n",
    "\n",
    "*Алла Тамбовцева, НИУ ВШЭ*"
   ]
  },
  {
   "cell_type": "markdown",
   "metadata": {},
   "source": [
    "### Работа с API: пример с API ВКонтакте"
   ]
  },
  {
   "cell_type": "markdown",
   "metadata": {},
   "source": [
    "Сегодня мы немного поработаем с API. API – программный интерфейс приложения, сокращение от *Application Programming Interface*. Этот интерфейс позволяет выполнять различные операции автоматически, через приложение. Если API нам нужен исключительно как источник данных, можно писать запросы, позволяющие обратиться к хранилищу информации внутри API. Если мы хотим управлять приложением, которое будет выполнять какие-то действия, удаленно, можно написать код, который будет, например, автоматически отвечать на сообщения, когда мы не онлайн, лайкать новый пост друга через 30 секунд после его появления, пересылать на почту фотографии, которые выложили участники диалога и прочее.\n",
    "\n",
    "Мы будем работать с API социальной сети ВКонтакте. Использовать API для написания и приема сообщений средствами Python мы не будем, а рассмотрим API как источник данных, позволяющий выгрузить все посты со стены пользователя или сообщества. Для работы нам понадобится библиотека `vk`, ее нужно установить через `pip install vk` в *Anaconda Command Prompt* (см. пример с `selenium` [здесь](https://nbviewer.jupyter.org/github/allatambov/Py-programming-3/blob/master/11-06/lect-selenium1.ipynb)).\n",
    "\n",
    "Импортируем библиотеку:"
   ]
  },
  {
   "cell_type": "code",
   "execution_count": 1,
   "metadata": {},
   "outputs": [],
   "source": [
    "import vk"
   ]
  },
  {
   "cell_type": "markdown",
   "metadata": {},
   "source": [
    "Теперь нужно авторизоваться: создать приложение и получить токен доступа к нему."
   ]
  },
  {
   "cell_type": "markdown",
   "metadata": {},
   "source": [
    "#### Для авторизации:\n",
    "    \n",
    "1. [Создать](https://vk.com/apps?act=manage) приложение ВКонтакте (пройти по ссылке). Дать название, выбрать *Standalone-приложение*.\n",
    "2. Включить приложение, сделать публичным (*Настройки - Состояние* и выбрать в выпадающем меню *Приложение включено и видно всем*).\n",
    "3. Авторизоваться: скопировать строку ниже в браузер, в `client id` вместо 1 выставить `id` своего приложения (первая строка в настроках ‒ *ID приложения*). Если не хочется ни в чем ограничивать свое приложение, можно оставить `scope=all` (у приложения будет доступ ко всему, к чему есть доступ у пользователя).\n",
    "\n",
    "    > ```https://oauth.vk.com/authorize?client_id=1&display=page&redirect_uri=http://oauth.vk.com/blank.html&scope=all&response_type=token```\n",
    "\n",
    "4. Скопировать `access token` из обновленной адресной строки (все после `access_token=` и до `&expires_in`, без `&`). Никому не показывать! По этому токену можно получить доступ ко всему аккаунту."
   ]
  },
  {
   "cell_type": "code",
   "execution_count": 2,
   "metadata": {},
   "outputs": [],
   "source": [
    "# скопировать свой access token без пробелов вместо 1234\n",
    "token = '1234'"
   ]
  },
  {
   "cell_type": "code",
   "execution_count": 3,
   "metadata": {},
   "outputs": [],
   "source": [
    "session = vk.Session(access_token = token) # открыть сессию для работы\n",
    "api = vk.API(session) # подключиться к API"
   ]
  },
  {
   "cell_type": "markdown",
   "metadata": {},
   "source": [
    "Попробуем сгрузить первые 100 постов со [стены](https://vk.com/hseofficial) неофициального сообщества ВШЭ. Сохраним ссылку на сообщество в переменную `group`:"
   ]
  },
  {
   "cell_type": "code",
   "execution_count": 4,
   "metadata": {},
   "outputs": [],
   "source": [
    "group = 'hseofficial'"
   ]
  },
  {
   "cell_type": "markdown",
   "metadata": {},
   "source": [
    "Обратите внимание: ссылка должна быть относительной, то есть без части с `https:/vk.com/`. Python и так будет знать, что мы работаем с сетью ВКонтакте."
   ]
  },
  {
   "cell_type": "markdown",
   "metadata": {},
   "source": [
    "Теперь получим доступ к стене этого сообщества:"
   ]
  },
  {
   "cell_type": "code",
   "execution_count": 5,
   "metadata": {},
   "outputs": [],
   "source": [
    "# wall.get - \"подключаемся\" к стене\n",
    "# count - сколько постов выгрузить (максимум)\n",
    "# v - версия API, можно обойтись без нее, но Python может выдать warning\n",
    "\n",
    "res = api.wall.get(domain = group, count = 100, v = 5.73)"
   ]
  },
  {
   "cell_type": "code",
   "execution_count": 7,
   "metadata": {},
   "outputs": [],
   "source": [
    "res"
   ]
  },
  {
   "cell_type": "markdown",
   "metadata": {},
   "source": [
    "Результат, сохраненный в `res`, очень похож на словарь. На самом деле, многие API возвращают результаты в формате JSON (JavaScript Object Notation), который тоже может быть представлен в виде набора пар ключ-значение."
   ]
  },
  {
   "cell_type": "code",
   "execution_count": 8,
   "metadata": {},
   "outputs": [
    {
     "data": {
      "text/plain": [
       "dict_keys(['count', 'items'])"
      ]
     },
     "execution_count": 8,
     "metadata": {},
     "output_type": "execute_result"
    }
   ],
   "source": [
    "res.keys()"
   ]
  },
  {
   "cell_type": "markdown",
   "metadata": {},
   "source": [
    "Ключами являются `count` и `items`. Нужные нам объекты (текст постов, id автора, дата и время публикации и проч.) находятся в `items`."
   ]
  },
  {
   "cell_type": "code",
   "execution_count": 9,
   "metadata": {},
   "outputs": [
    {
     "data": {
      "text/plain": [
       "{'id': 32590,\n",
       " 'from_id': -132,\n",
       " 'owner_id': -132,\n",
       " 'date': 1549025481,\n",
       " 'marked_as_ads': 0,\n",
       " 'post_type': 'post',\n",
       " 'text': '',\n",
       " 'copy_history': [{'id': 340,\n",
       "   'owner_id': -130374393,\n",
       "   'from_id': -130374393,\n",
       "   'date': 1548750547,\n",
       "   'post_type': 'post',\n",
       "   'text': 'Итак! После каникул оркестр НИУ ВШЭ опять в строю! \\n \\nС приходом нового года мы хотим найти новые лица в наш коллектив! \\n \\nЕсли ты играешь на музыкальном инструменте и любишь искусство так же, как и мы. Добро пожаловать! \\n \\nКогда: \\nПн, пт - с 18:30 до 21:00 \\n \\nГде: \\nул. Старая Басманная 21/4 \\n \\nЧто потребуется: \\n• Музыкальный инструмент \\n• Хорошее настроение \\n• Уверенность в себе \\n \\nМы ждём именно тебя! \\n \\nПо всем вопросам писать или звонить [id133931431|Поле]: \\n89262337123',\n",
       "   'attachments': [{'type': 'photo',\n",
       "     'photo': {'id': 456239403,\n",
       "      'album_id': -7,\n",
       "      'owner_id': -130374393,\n",
       "      'user_id': 100,\n",
       "      'photo_75': 'https://pp.userapi.com/c848524/v848524534/117299/b54BUX2-nbk.jpg',\n",
       "      'photo_130': 'https://pp.userapi.com/c848524/v848524534/11729a/-Zq5ruYiusA.jpg',\n",
       "      'photo_604': 'https://pp.userapi.com/c848524/v848524534/11729b/35fwgRKU4nU.jpg',\n",
       "      'photo_807': 'https://pp.userapi.com/c848524/v848524534/11729c/Uak1IPMKx4M.jpg',\n",
       "      'photo_1280': 'https://pp.userapi.com/c848524/v848524534/11729d/7whvmcMR8w8.jpg',\n",
       "      'photo_2560': 'https://pp.userapi.com/c848524/v848524534/11729e/bWi-srXfk-8.jpg',\n",
       "      'width': 794,\n",
       "      'height': 1123,\n",
       "      'text': '',\n",
       "      'date': 1548750546,\n",
       "      'access_key': '3fbafb07cc3e7d994f'}}],\n",
       "   'post_source': {'type': 'vk'}}],\n",
       " 'post_source': {'type': 'vk'},\n",
       " 'comments': {'count': 0, 'can_post': 1, 'groups_can_post': True},\n",
       " 'likes': {'count': 2, 'user_likes': 0, 'can_like': 1, 'can_publish': 1},\n",
       " 'reposts': {'count': 0, 'user_reposted': 0},\n",
       " 'views': {'count': 1222}}"
      ]
     },
     "execution_count": 9,
     "metadata": {},
     "output_type": "execute_result"
    }
   ],
   "source": [
    "res['items'][0] # первый элемент items - первый пост со всей информацией о нем"
   ]
  },
  {
   "cell_type": "markdown",
   "metadata": {},
   "source": [
    "Помимо текста поста можно найти много всего интересного. Например, тип поста (`post_type`), дата (`date`), id поста (`id`), лайки (`likes`, которые включают информацию о том, могут ли пользователи лайкать пост и публиковать его, а также собственно число лайков), репосты (`reposts`, которые включают число репостов), число просмотров (`views`), комментарии (`comments`, которые включают информацию о том, могут ли пользователи комментировать пост, и число комментариев), и так далее."
   ]
  },
  {
   "cell_type": "markdown",
   "metadata": {},
   "source": [
    "Давайте остановимся на тексте поста, id автора, id поста, дате публикации, числе лайков и репостов. Чтобы извлечь соответствующую информацию, сохраним `items` и извлечем из них нужные поля:"
   ]
  },
  {
   "cell_type": "code",
   "execution_count": 10,
   "metadata": {},
   "outputs": [],
   "source": [
    "items = res['items']"
   ]
  },
  {
   "cell_type": "code",
   "execution_count": 11,
   "metadata": {},
   "outputs": [],
   "source": [
    "full_list = []\n",
    "\n",
    "for item in items:\n",
    "    L = [item['from_id'], item['id'], item['text'], item['date'],\n",
    "        item['likes']['count'], item['reposts']['count']]  # нужные поля\n",
    "    full_list.append(L)  # добавляем в список списков full_list"
   ]
  },
  {
   "cell_type": "code",
   "execution_count": 12,
   "metadata": {},
   "outputs": [
    {
     "data": {
      "text/plain": [
       "[[-132, 32590, '', 1549025481, 2, 0],\n",
       " [-132,\n",
       "  32586,\n",
       "  'Поздравляем Школу логистики ФБМ с высокой оценкой образовательной программы \"Стратегическое управление логистикой\" за рубежом! https://www.hse.ru/news/edu/235206567.html',\n",
       "  1548532201,\n",
       "  5,\n",
       "  2],\n",
       " [-132, 32585, '', 1548146499, 6, 0]]"
      ]
     },
     "execution_count": 12,
     "metadata": {},
     "output_type": "execute_result"
    }
   ],
   "source": [
    "# несколько элементов списка\n",
    "full_list[0:3]"
   ]
  },
  {
   "cell_type": "markdown",
   "metadata": {},
   "source": [
    "Видно, что в некоторых постах текста не обнаружено. "
   ]
  },
  {
   "cell_type": "markdown",
   "metadata": {},
   "source": [
    "Из этого списка списков можно легко сделать датафрейм `pandas`. Но прежде посмотрим, как сгрузить следующие 100 (и не только 100) постов со стены. Обычно при работе с API нужно принимать во внимание две вещи: 1) какое ограничение стоит на число запросов за один раз (число постов в нашем случае); 2) какое ограничение стоит на число запросов в минуту. Чтобы действовать в соответствии с этими ограничениями, поступим так: будем грузить каждые следующие 100 постов, добавлять их к нашему списку, потом немного ждать, и грузить еще 100 постов, и так до тех пор, пока не сгрузим желаемое количество.\n",
    "\n",
    "Давайте для начала выберем это желаемое число постов. Пусть будет 400. "
   ]
  },
  {
   "cell_type": "code",
   "execution_count": 13,
   "metadata": {},
   "outputs": [],
   "source": [
    "nposts = 400"
   ]
  },
  {
   "cell_type": "markdown",
   "metadata": {},
   "source": [
    "Теперь вопрос: по каким значениям нужно «пробегаться» в цикле, чтобы сгрузить посты с 100 по 400 (первые 100 уже сохранены в `res`)? По целым значениям от 2 до 4 включительно, умножая эти значения на 100. В `vk.get` есть опция `offset`. Она позволяет сдвинуть начало отсчета постов на некоторое число. Так, если мы напишем `api.wall.get(domain = group, count = 100, offset = 100, v = 5.73)`,  мы получим посты с 100 по 200, так как начало отсчета сдвинулось на 100."
   ]
  },
  {
   "cell_type": "markdown",
   "metadata": {},
   "source": [
    "Реализуем описанное выше. Для цикла нам понадобится `range()`, а для задержки после выгрузки каждой сотни постов нам пригодится функция `sleep`: "
   ]
  },
  {
   "cell_type": "code",
   "execution_count": 14,
   "metadata": {},
   "outputs": [],
   "source": [
    "from time import sleep"
   ]
  },
  {
   "cell_type": "code",
   "execution_count": 15,
   "metadata": {},
   "outputs": [],
   "source": [
    "for i in range(2, int(nposts/100) + 1):\n",
    "    res2 = api.wall.get(domain = group, count = 100, offset = 100 * i, v = 5.73)\n",
    "    items2 = res2['items']\n",
    "    items.extend(items2) # добавляем к первой сотне постов в items\n",
    "    sleep(10)"
   ]
  },
  {
   "cell_type": "code",
   "execution_count": 16,
   "metadata": {},
   "outputs": [],
   "source": [
    "# опять выберем только нужные поля\n",
    "full_list = []\n",
    "for item in items:\n",
    "    L = [item['from_id'], item['id'], item['text'], item['date'],\n",
    "        item['likes']['count'], item['reposts']['count']]\n",
    "    full_list.append(L)"
   ]
  },
  {
   "cell_type": "markdown",
   "metadata": {},
   "source": [
    "Оставлось превратить обновленный список `items` (список списков) в датафрейм. Импортируем `pandas`."
   ]
  },
  {
   "cell_type": "code",
   "execution_count": 17,
   "metadata": {},
   "outputs": [],
   "source": [
    "import pandas as pd"
   ]
  },
  {
   "cell_type": "markdown",
   "metadata": {},
   "source": [
    "Создадим датафрейм:"
   ]
  },
  {
   "cell_type": "code",
   "execution_count": 18,
   "metadata": {},
   "outputs": [],
   "source": [
    "df = pd.DataFrame(full_list)"
   ]
  },
  {
   "cell_type": "code",
   "execution_count": 19,
   "metadata": {},
   "outputs": [
    {
     "data": {
      "text/html": [
       "<div>\n",
       "<style scoped>\n",
       "    .dataframe tbody tr th:only-of-type {\n",
       "        vertical-align: middle;\n",
       "    }\n",
       "\n",
       "    .dataframe tbody tr th {\n",
       "        vertical-align: top;\n",
       "    }\n",
       "\n",
       "    .dataframe thead th {\n",
       "        text-align: right;\n",
       "    }\n",
       "</style>\n",
       "<table border=\"1\" class=\"dataframe\">\n",
       "  <thead>\n",
       "    <tr style=\"text-align: right;\">\n",
       "      <th></th>\n",
       "      <th>0</th>\n",
       "      <th>1</th>\n",
       "      <th>2</th>\n",
       "      <th>3</th>\n",
       "      <th>4</th>\n",
       "      <th>5</th>\n",
       "    </tr>\n",
       "  </thead>\n",
       "  <tbody>\n",
       "    <tr>\n",
       "      <th>0</th>\n",
       "      <td>-132</td>\n",
       "      <td>32590</td>\n",
       "      <td></td>\n",
       "      <td>1549025481</td>\n",
       "      <td>2</td>\n",
       "      <td>0</td>\n",
       "    </tr>\n",
       "    <tr>\n",
       "      <th>1</th>\n",
       "      <td>-132</td>\n",
       "      <td>32586</td>\n",
       "      <td>Поздравляем Школу логистики ФБМ с высокой оцен...</td>\n",
       "      <td>1548532201</td>\n",
       "      <td>5</td>\n",
       "      <td>2</td>\n",
       "    </tr>\n",
       "    <tr>\n",
       "      <th>2</th>\n",
       "      <td>-132</td>\n",
       "      <td>32585</td>\n",
       "      <td></td>\n",
       "      <td>1548146499</td>\n",
       "      <td>6</td>\n",
       "      <td>0</td>\n",
       "    </tr>\n",
       "    <tr>\n",
       "      <th>3</th>\n",
       "      <td>-132</td>\n",
       "      <td>32580</td>\n",
       "      <td>Проблемы качества питания в студенческих столо...</td>\n",
       "      <td>1547797174</td>\n",
       "      <td>10</td>\n",
       "      <td>0</td>\n",
       "    </tr>\n",
       "    <tr>\n",
       "      <th>4</th>\n",
       "      <td>-132</td>\n",
       "      <td>32578</td>\n",
       "      <td>Ректор НИУ ВШЭ определил ориентиры для абитури...</td>\n",
       "      <td>1547399794</td>\n",
       "      <td>31</td>\n",
       "      <td>5</td>\n",
       "    </tr>\n",
       "    <tr>\n",
       "      <th>5</th>\n",
       "      <td>-132</td>\n",
       "      <td>32577</td>\n",
       "      <td>Дорогие наши студенты! Берегите пропуска и соц...</td>\n",
       "      <td>1547319555</td>\n",
       "      <td>2</td>\n",
       "      <td>0</td>\n",
       "    </tr>\n",
       "    <tr>\n",
       "      <th>6</th>\n",
       "      <td>-132</td>\n",
       "      <td>32576</td>\n",
       "      <td>Данилова Александра Александровна, найдена кар...</td>\n",
       "      <td>1547319476</td>\n",
       "      <td>0</td>\n",
       "      <td>0</td>\n",
       "    </tr>\n",
       "    <tr>\n",
       "      <th>7</th>\n",
       "      <td>-132</td>\n",
       "      <td>32575</td>\n",
       "      <td>На Полежаевской карта у кассира</td>\n",
       "      <td>1547319279</td>\n",
       "      <td>2</td>\n",
       "      <td>1</td>\n",
       "    </tr>\n",
       "    <tr>\n",
       "      <th>8</th>\n",
       "      <td>-132</td>\n",
       "      <td>32574</td>\n",
       "      <td>Всем известно, что Лицей НИУ ВШЭ создан по абс...</td>\n",
       "      <td>1547319023</td>\n",
       "      <td>15</td>\n",
       "      <td>3</td>\n",
       "    </tr>\n",
       "    <tr>\n",
       "      <th>9</th>\n",
       "      <td>-132</td>\n",
       "      <td>32543</td>\n",
       "      <td>Веб-журнал \"Популярная логистика\" https://vk.c...</td>\n",
       "      <td>1544212600</td>\n",
       "      <td>8</td>\n",
       "      <td>3</td>\n",
       "    </tr>\n",
       "  </tbody>\n",
       "</table>\n",
       "</div>"
      ],
      "text/plain": [
       "     0      1                                                  2           3  \\\n",
       "0 -132  32590                                                     1549025481   \n",
       "1 -132  32586  Поздравляем Школу логистики ФБМ с высокой оцен...  1548532201   \n",
       "2 -132  32585                                                     1548146499   \n",
       "3 -132  32580  Проблемы качества питания в студенческих столо...  1547797174   \n",
       "4 -132  32578  Ректор НИУ ВШЭ определил ориентиры для абитури...  1547399794   \n",
       "5 -132  32577  Дорогие наши студенты! Берегите пропуска и соц...  1547319555   \n",
       "6 -132  32576  Данилова Александра Александровна, найдена кар...  1547319476   \n",
       "7 -132  32575                    На Полежаевской карта у кассира  1547319279   \n",
       "8 -132  32574  Всем известно, что Лицей НИУ ВШЭ создан по абс...  1547319023   \n",
       "9 -132  32543  Веб-журнал \"Популярная логистика\" https://vk.c...  1544212600   \n",
       "\n",
       "    4  5  \n",
       "0   2  0  \n",
       "1   5  2  \n",
       "2   6  0  \n",
       "3  10  0  \n",
       "4  31  5  \n",
       "5   2  0  \n",
       "6   0  0  \n",
       "7   2  1  \n",
       "8  15  3  \n",
       "9   8  3  "
      ]
     },
     "execution_count": 19,
     "metadata": {},
     "output_type": "execute_result"
    }
   ],
   "source": [
    "df.head(10)"
   ]
  },
  {
   "cell_type": "markdown",
   "metadata": {},
   "source": [
    "Ура! Осталось только дать внятные названия столбцам и разобраться, почему дата представлена в таком виде. что делать со столбцами, мы уже знаем."
   ]
  },
  {
   "cell_type": "code",
   "execution_count": 20,
   "metadata": {},
   "outputs": [
    {
     "data": {
      "text/html": [
       "<div>\n",
       "<style scoped>\n",
       "    .dataframe tbody tr th:only-of-type {\n",
       "        vertical-align: middle;\n",
       "    }\n",
       "\n",
       "    .dataframe tbody tr th {\n",
       "        vertical-align: top;\n",
       "    }\n",
       "\n",
       "    .dataframe thead th {\n",
       "        text-align: right;\n",
       "    }\n",
       "</style>\n",
       "<table border=\"1\" class=\"dataframe\">\n",
       "  <thead>\n",
       "    <tr style=\"text-align: right;\">\n",
       "      <th></th>\n",
       "      <th>from_id</th>\n",
       "      <th>id</th>\n",
       "      <th>text</th>\n",
       "      <th>date</th>\n",
       "      <th>likes</th>\n",
       "      <th>reposts</th>\n",
       "    </tr>\n",
       "  </thead>\n",
       "  <tbody>\n",
       "    <tr>\n",
       "      <th>0</th>\n",
       "      <td>-132</td>\n",
       "      <td>32590</td>\n",
       "      <td></td>\n",
       "      <td>1549025481</td>\n",
       "      <td>2</td>\n",
       "      <td>0</td>\n",
       "    </tr>\n",
       "    <tr>\n",
       "      <th>1</th>\n",
       "      <td>-132</td>\n",
       "      <td>32586</td>\n",
       "      <td>Поздравляем Школу логистики ФБМ с высокой оцен...</td>\n",
       "      <td>1548532201</td>\n",
       "      <td>5</td>\n",
       "      <td>2</td>\n",
       "    </tr>\n",
       "    <tr>\n",
       "      <th>2</th>\n",
       "      <td>-132</td>\n",
       "      <td>32585</td>\n",
       "      <td></td>\n",
       "      <td>1548146499</td>\n",
       "      <td>6</td>\n",
       "      <td>0</td>\n",
       "    </tr>\n",
       "    <tr>\n",
       "      <th>3</th>\n",
       "      <td>-132</td>\n",
       "      <td>32580</td>\n",
       "      <td>Проблемы качества питания в студенческих столо...</td>\n",
       "      <td>1547797174</td>\n",
       "      <td>10</td>\n",
       "      <td>0</td>\n",
       "    </tr>\n",
       "    <tr>\n",
       "      <th>4</th>\n",
       "      <td>-132</td>\n",
       "      <td>32578</td>\n",
       "      <td>Ректор НИУ ВШЭ определил ориентиры для абитури...</td>\n",
       "      <td>1547399794</td>\n",
       "      <td>31</td>\n",
       "      <td>5</td>\n",
       "    </tr>\n",
       "    <tr>\n",
       "      <th>5</th>\n",
       "      <td>-132</td>\n",
       "      <td>32577</td>\n",
       "      <td>Дорогие наши студенты! Берегите пропуска и соц...</td>\n",
       "      <td>1547319555</td>\n",
       "      <td>2</td>\n",
       "      <td>0</td>\n",
       "    </tr>\n",
       "    <tr>\n",
       "      <th>6</th>\n",
       "      <td>-132</td>\n",
       "      <td>32576</td>\n",
       "      <td>Данилова Александра Александровна, найдена кар...</td>\n",
       "      <td>1547319476</td>\n",
       "      <td>0</td>\n",
       "      <td>0</td>\n",
       "    </tr>\n",
       "    <tr>\n",
       "      <th>7</th>\n",
       "      <td>-132</td>\n",
       "      <td>32575</td>\n",
       "      <td>На Полежаевской карта у кассира</td>\n",
       "      <td>1547319279</td>\n",
       "      <td>2</td>\n",
       "      <td>1</td>\n",
       "    </tr>\n",
       "    <tr>\n",
       "      <th>8</th>\n",
       "      <td>-132</td>\n",
       "      <td>32574</td>\n",
       "      <td>Всем известно, что Лицей НИУ ВШЭ создан по абс...</td>\n",
       "      <td>1547319023</td>\n",
       "      <td>15</td>\n",
       "      <td>3</td>\n",
       "    </tr>\n",
       "    <tr>\n",
       "      <th>9</th>\n",
       "      <td>-132</td>\n",
       "      <td>32543</td>\n",
       "      <td>Веб-журнал \"Популярная логистика\" https://vk.c...</td>\n",
       "      <td>1544212600</td>\n",
       "      <td>8</td>\n",
       "      <td>3</td>\n",
       "    </tr>\n",
       "  </tbody>\n",
       "</table>\n",
       "</div>"
      ],
      "text/plain": [
       "   from_id     id                                               text  \\\n",
       "0     -132  32590                                                      \n",
       "1     -132  32586  Поздравляем Школу логистики ФБМ с высокой оцен...   \n",
       "2     -132  32585                                                      \n",
       "3     -132  32580  Проблемы качества питания в студенческих столо...   \n",
       "4     -132  32578  Ректор НИУ ВШЭ определил ориентиры для абитури...   \n",
       "5     -132  32577  Дорогие наши студенты! Берегите пропуска и соц...   \n",
       "6     -132  32576  Данилова Александра Александровна, найдена кар...   \n",
       "7     -132  32575                    На Полежаевской карта у кассира   \n",
       "8     -132  32574  Всем известно, что Лицей НИУ ВШЭ создан по абс...   \n",
       "9     -132  32543  Веб-журнал \"Популярная логистика\" https://vk.c...   \n",
       "\n",
       "         date  likes  reposts  \n",
       "0  1549025481      2        0  \n",
       "1  1548532201      5        2  \n",
       "2  1548146499      6        0  \n",
       "3  1547797174     10        0  \n",
       "4  1547399794     31        5  \n",
       "5  1547319555      2        0  \n",
       "6  1547319476      0        0  \n",
       "7  1547319279      2        1  \n",
       "8  1547319023     15        3  \n",
       "9  1544212600      8        3  "
      ]
     },
     "execution_count": 20,
     "metadata": {},
     "output_type": "execute_result"
    }
   ],
   "source": [
    "df.columns = ['from_id', 'id', 'text', 'date', 'likes', 'reposts']\n",
    "df.head(10)"
   ]
  },
  {
   "cell_type": "markdown",
   "metadata": {},
   "source": [
    "С датой все интереснее. То, что указано в столбце `date`, это дата в виде UNIX-времени (POSIX-времени). Это число секунд, прошедших с 1 января 1970 года. Несмотря на то, что такой формат даты-времени кажется необычным, он довольно широко распространен в разных системах и приложениях (см. подробнее [здесь](https://ru.wikipedia.org/wiki/Unix-%D0%B2%D1%80%D0%B5%D0%BC%D1%8F)). Этот факт, конечно, радует, но хочется получить дату в более человеческом формате. Давайте напишем функцию для перевода UNIX-времени в формат *год-месяц-день-часы-минуты-секунды*. Для этого нам понадобится модуль *datetime*."
   ]
  },
  {
   "cell_type": "code",
   "execution_count": 21,
   "metadata": {},
   "outputs": [],
   "source": [
    "from datetime import datetime"
   ]
  },
  {
   "cell_type": "code",
   "execution_count": 22,
   "metadata": {},
   "outputs": [],
   "source": [
    "def date_norm(date):\n",
    "    d = datetime.fromtimestamp(date) # timestamp - UNIX-время в виде строки\n",
    "    str_d = d.strftime(\"%Y-%m-%d %H:%M:%S\") # %Y-%m-%d %H:%M:%S - год-месяц-день, часы:мин:сек\n",
    "    date_norm, time_norm = str_d.split(' ') # разобьем результат на части, отделим дату от времени\n",
    "    return date_norm, time_norm"
   ]
  },
  {
   "cell_type": "markdown",
   "metadata": {},
   "source": [
    "Применим нашу функцию к элементам столбца *date* и создадим новый – *date_norm*."
   ]
  },
  {
   "cell_type": "code",
   "execution_count": 23,
   "metadata": {},
   "outputs": [],
   "source": [
    "df['date_norm'] = df.date.apply(date_norm)"
   ]
  },
  {
   "cell_type": "code",
   "execution_count": 24,
   "metadata": {},
   "outputs": [
    {
     "data": {
      "text/html": [
       "<div>\n",
       "<style scoped>\n",
       "    .dataframe tbody tr th:only-of-type {\n",
       "        vertical-align: middle;\n",
       "    }\n",
       "\n",
       "    .dataframe tbody tr th {\n",
       "        vertical-align: top;\n",
       "    }\n",
       "\n",
       "    .dataframe thead th {\n",
       "        text-align: right;\n",
       "    }\n",
       "</style>\n",
       "<table border=\"1\" class=\"dataframe\">\n",
       "  <thead>\n",
       "    <tr style=\"text-align: right;\">\n",
       "      <th></th>\n",
       "      <th>from_id</th>\n",
       "      <th>id</th>\n",
       "      <th>text</th>\n",
       "      <th>date</th>\n",
       "      <th>likes</th>\n",
       "      <th>reposts</th>\n",
       "      <th>date_norm</th>\n",
       "    </tr>\n",
       "  </thead>\n",
       "  <tbody>\n",
       "    <tr>\n",
       "      <th>0</th>\n",
       "      <td>-132</td>\n",
       "      <td>32590</td>\n",
       "      <td></td>\n",
       "      <td>1549025481</td>\n",
       "      <td>2</td>\n",
       "      <td>0</td>\n",
       "      <td>(2019-02-01, 15:51:21)</td>\n",
       "    </tr>\n",
       "    <tr>\n",
       "      <th>1</th>\n",
       "      <td>-132</td>\n",
       "      <td>32586</td>\n",
       "      <td>Поздравляем Школу логистики ФБМ с высокой оцен...</td>\n",
       "      <td>1548532201</td>\n",
       "      <td>5</td>\n",
       "      <td>2</td>\n",
       "      <td>(2019-01-26, 22:50:01)</td>\n",
       "    </tr>\n",
       "    <tr>\n",
       "      <th>2</th>\n",
       "      <td>-132</td>\n",
       "      <td>32585</td>\n",
       "      <td></td>\n",
       "      <td>1548146499</td>\n",
       "      <td>6</td>\n",
       "      <td>0</td>\n",
       "      <td>(2019-01-22, 11:41:39)</td>\n",
       "    </tr>\n",
       "    <tr>\n",
       "      <th>3</th>\n",
       "      <td>-132</td>\n",
       "      <td>32580</td>\n",
       "      <td>Проблемы качества питания в студенческих столо...</td>\n",
       "      <td>1547797174</td>\n",
       "      <td>10</td>\n",
       "      <td>0</td>\n",
       "      <td>(2019-01-18, 10:39:34)</td>\n",
       "    </tr>\n",
       "    <tr>\n",
       "      <th>4</th>\n",
       "      <td>-132</td>\n",
       "      <td>32578</td>\n",
       "      <td>Ректор НИУ ВШЭ определил ориентиры для абитури...</td>\n",
       "      <td>1547399794</td>\n",
       "      <td>31</td>\n",
       "      <td>5</td>\n",
       "      <td>(2019-01-13, 20:16:34)</td>\n",
       "    </tr>\n",
       "  </tbody>\n",
       "</table>\n",
       "</div>"
      ],
      "text/plain": [
       "   from_id     id                                               text  \\\n",
       "0     -132  32590                                                      \n",
       "1     -132  32586  Поздравляем Школу логистики ФБМ с высокой оцен...   \n",
       "2     -132  32585                                                      \n",
       "3     -132  32580  Проблемы качества питания в студенческих столо...   \n",
       "4     -132  32578  Ректор НИУ ВШЭ определил ориентиры для абитури...   \n",
       "\n",
       "         date  likes  reposts               date_norm  \n",
       "0  1549025481      2        0  (2019-02-01, 15:51:21)  \n",
       "1  1548532201      5        2  (2019-01-26, 22:50:01)  \n",
       "2  1548146499      6        0  (2019-01-22, 11:41:39)  \n",
       "3  1547797174     10        0  (2019-01-18, 10:39:34)  \n",
       "4  1547399794     31        5  (2019-01-13, 20:16:34)  "
      ]
     },
     "execution_count": 24,
     "metadata": {},
     "output_type": "execute_result"
    }
   ],
   "source": [
    "df.head()"
   ]
  },
  {
   "cell_type": "markdown",
   "metadata": {},
   "source": [
    "Можно было, конечно, не разбивать на части дату и время, сохранять одной строкой. А можно написать функции, которые будут отделять дату от времени – извлекать их из кортежа в `date_norm`."
   ]
  },
  {
   "cell_type": "code",
   "execution_count": 25,
   "metadata": {},
   "outputs": [],
   "source": [
    "def get_date(date):\n",
    "    return date[0]\n",
    "\n",
    "def get_time(date):\n",
    "    return date[1]"
   ]
  },
  {
   "cell_type": "code",
   "execution_count": 26,
   "metadata": {},
   "outputs": [],
   "source": [
    "df['Date'] = df.date_norm.apply(get_date)\n",
    "df['Time'] = df.date_norm.apply(get_time)"
   ]
  },
  {
   "cell_type": "code",
   "execution_count": 27,
   "metadata": {},
   "outputs": [
    {
     "data": {
      "text/html": [
       "<div>\n",
       "<style scoped>\n",
       "    .dataframe tbody tr th:only-of-type {\n",
       "        vertical-align: middle;\n",
       "    }\n",
       "\n",
       "    .dataframe tbody tr th {\n",
       "        vertical-align: top;\n",
       "    }\n",
       "\n",
       "    .dataframe thead th {\n",
       "        text-align: right;\n",
       "    }\n",
       "</style>\n",
       "<table border=\"1\" class=\"dataframe\">\n",
       "  <thead>\n",
       "    <tr style=\"text-align: right;\">\n",
       "      <th></th>\n",
       "      <th>from_id</th>\n",
       "      <th>id</th>\n",
       "      <th>text</th>\n",
       "      <th>date</th>\n",
       "      <th>likes</th>\n",
       "      <th>reposts</th>\n",
       "      <th>date_norm</th>\n",
       "      <th>Date</th>\n",
       "      <th>Time</th>\n",
       "    </tr>\n",
       "  </thead>\n",
       "  <tbody>\n",
       "    <tr>\n",
       "      <th>0</th>\n",
       "      <td>-132</td>\n",
       "      <td>32590</td>\n",
       "      <td></td>\n",
       "      <td>1549025481</td>\n",
       "      <td>2</td>\n",
       "      <td>0</td>\n",
       "      <td>(2019-02-01, 15:51:21)</td>\n",
       "      <td>2019-02-01</td>\n",
       "      <td>15:51:21</td>\n",
       "    </tr>\n",
       "    <tr>\n",
       "      <th>1</th>\n",
       "      <td>-132</td>\n",
       "      <td>32586</td>\n",
       "      <td>Поздравляем Школу логистики ФБМ с высокой оцен...</td>\n",
       "      <td>1548532201</td>\n",
       "      <td>5</td>\n",
       "      <td>2</td>\n",
       "      <td>(2019-01-26, 22:50:01)</td>\n",
       "      <td>2019-01-26</td>\n",
       "      <td>22:50:01</td>\n",
       "    </tr>\n",
       "    <tr>\n",
       "      <th>2</th>\n",
       "      <td>-132</td>\n",
       "      <td>32585</td>\n",
       "      <td></td>\n",
       "      <td>1548146499</td>\n",
       "      <td>6</td>\n",
       "      <td>0</td>\n",
       "      <td>(2019-01-22, 11:41:39)</td>\n",
       "      <td>2019-01-22</td>\n",
       "      <td>11:41:39</td>\n",
       "    </tr>\n",
       "    <tr>\n",
       "      <th>3</th>\n",
       "      <td>-132</td>\n",
       "      <td>32580</td>\n",
       "      <td>Проблемы качества питания в студенческих столо...</td>\n",
       "      <td>1547797174</td>\n",
       "      <td>10</td>\n",
       "      <td>0</td>\n",
       "      <td>(2019-01-18, 10:39:34)</td>\n",
       "      <td>2019-01-18</td>\n",
       "      <td>10:39:34</td>\n",
       "    </tr>\n",
       "    <tr>\n",
       "      <th>4</th>\n",
       "      <td>-132</td>\n",
       "      <td>32578</td>\n",
       "      <td>Ректор НИУ ВШЭ определил ориентиры для абитури...</td>\n",
       "      <td>1547399794</td>\n",
       "      <td>31</td>\n",
       "      <td>5</td>\n",
       "      <td>(2019-01-13, 20:16:34)</td>\n",
       "      <td>2019-01-13</td>\n",
       "      <td>20:16:34</td>\n",
       "    </tr>\n",
       "  </tbody>\n",
       "</table>\n",
       "</div>"
      ],
      "text/plain": [
       "   from_id     id                                               text  \\\n",
       "0     -132  32590                                                      \n",
       "1     -132  32586  Поздравляем Школу логистики ФБМ с высокой оцен...   \n",
       "2     -132  32585                                                      \n",
       "3     -132  32580  Проблемы качества питания в студенческих столо...   \n",
       "4     -132  32578  Ректор НИУ ВШЭ определил ориентиры для абитури...   \n",
       "\n",
       "         date  likes  reposts               date_norm        Date      Time  \n",
       "0  1549025481      2        0  (2019-02-01, 15:51:21)  2019-02-01  15:51:21  \n",
       "1  1548532201      5        2  (2019-01-26, 22:50:01)  2019-01-26  22:50:01  \n",
       "2  1548146499      6        0  (2019-01-22, 11:41:39)  2019-01-22  11:41:39  \n",
       "3  1547797174     10        0  (2019-01-18, 10:39:34)  2019-01-18  10:39:34  \n",
       "4  1547399794     31        5  (2019-01-13, 20:16:34)  2019-01-13  20:16:34  "
      ]
     },
     "execution_count": 27,
     "metadata": {},
     "output_type": "execute_result"
    }
   ],
   "source": [
    "df.head()"
   ]
  },
  {
   "cell_type": "markdown",
   "metadata": {},
   "source": [
    "Всё! Материалы о разных методах и функциях для `vk.api` можно найти в [официальной документации](https://vk.com/dev/manuals). "
   ]
  }
 ],
 "metadata": {
  "kernelspec": {
   "display_name": "Python 3",
   "language": "python",
   "name": "python3"
  },
  "language_info": {
   "codemirror_mode": {
    "name": "ipython",
    "version": 3
   },
   "file_extension": ".py",
   "mimetype": "text/x-python",
   "name": "python",
   "nbconvert_exporter": "python",
   "pygments_lexer": "ipython3",
   "version": "3.6.5"
  }
 },
 "nbformat": 4,
 "nbformat_minor": 2
}
